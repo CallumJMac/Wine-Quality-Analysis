{
 "cells": [
  {
   "cell_type": "code",
   "execution_count": 30,
   "metadata": {},
   "outputs": [],
   "source": [
    "import pandas as pd\n",
    "import numpy as np\n",
    "import matplotlib.pyplot as plt\n",
    "\n",
    "from sklearn.neighbors import KNeighborsClassifier\n",
    "from sklearn.ensemble import RandomForestClassifier\n",
    "from sklearn.tree import DecisionTreeClassifier\n",
    "from sklearn.linear_model import SGDClassifier\n",
    "from sklearn.model_selection import train_test_split\n",
    "from sklearn.metrics import classification_report\n",
    "from sklearn.preprocessing import StandardScaler\n",
    "from sklearn.model_selection import RandomizedSearchCV, cross_val_score"
   ]
  },
  {
   "cell_type": "markdown",
   "metadata": {},
   "source": [
    "### Reading the data"
   ]
  },
  {
   "cell_type": "code",
   "execution_count": 17,
   "metadata": {},
   "outputs": [
    {
     "data": {
      "text/html": [
       "<div>\n",
       "<style scoped>\n",
       "    .dataframe tbody tr th:only-of-type {\n",
       "        vertical-align: middle;\n",
       "    }\n",
       "\n",
       "    .dataframe tbody tr th {\n",
       "        vertical-align: top;\n",
       "    }\n",
       "\n",
       "    .dataframe thead th {\n",
       "        text-align: right;\n",
       "    }\n",
       "</style>\n",
       "<table border=\"1\" class=\"dataframe\">\n",
       "  <thead>\n",
       "    <tr style=\"text-align: right;\">\n",
       "      <th></th>\n",
       "      <th>fixed acidity</th>\n",
       "      <th>volatile acidity</th>\n",
       "      <th>citric acid</th>\n",
       "      <th>residual sugar</th>\n",
       "      <th>chlorides</th>\n",
       "      <th>free sulfur dioxide</th>\n",
       "      <th>total sulfur dioxide</th>\n",
       "      <th>density</th>\n",
       "      <th>pH</th>\n",
       "      <th>sulphates</th>\n",
       "      <th>alcohol</th>\n",
       "      <th>quality</th>\n",
       "    </tr>\n",
       "  </thead>\n",
       "  <tbody>\n",
       "    <tr>\n",
       "      <th>0</th>\n",
       "      <td>7.0</td>\n",
       "      <td>0.27</td>\n",
       "      <td>0.36</td>\n",
       "      <td>20.7</td>\n",
       "      <td>0.045</td>\n",
       "      <td>45.0</td>\n",
       "      <td>170.0</td>\n",
       "      <td>1.0010</td>\n",
       "      <td>3.00</td>\n",
       "      <td>0.45</td>\n",
       "      <td>8.8</td>\n",
       "      <td>6</td>\n",
       "    </tr>\n",
       "    <tr>\n",
       "      <th>1</th>\n",
       "      <td>6.3</td>\n",
       "      <td>0.30</td>\n",
       "      <td>0.34</td>\n",
       "      <td>1.6</td>\n",
       "      <td>0.049</td>\n",
       "      <td>14.0</td>\n",
       "      <td>132.0</td>\n",
       "      <td>0.9940</td>\n",
       "      <td>3.30</td>\n",
       "      <td>0.49</td>\n",
       "      <td>9.5</td>\n",
       "      <td>6</td>\n",
       "    </tr>\n",
       "    <tr>\n",
       "      <th>2</th>\n",
       "      <td>8.1</td>\n",
       "      <td>0.28</td>\n",
       "      <td>0.40</td>\n",
       "      <td>6.9</td>\n",
       "      <td>0.050</td>\n",
       "      <td>30.0</td>\n",
       "      <td>97.0</td>\n",
       "      <td>0.9951</td>\n",
       "      <td>3.26</td>\n",
       "      <td>0.44</td>\n",
       "      <td>10.1</td>\n",
       "      <td>6</td>\n",
       "    </tr>\n",
       "    <tr>\n",
       "      <th>3</th>\n",
       "      <td>7.2</td>\n",
       "      <td>0.23</td>\n",
       "      <td>0.32</td>\n",
       "      <td>8.5</td>\n",
       "      <td>0.058</td>\n",
       "      <td>47.0</td>\n",
       "      <td>186.0</td>\n",
       "      <td>0.9956</td>\n",
       "      <td>3.19</td>\n",
       "      <td>0.40</td>\n",
       "      <td>9.9</td>\n",
       "      <td>6</td>\n",
       "    </tr>\n",
       "    <tr>\n",
       "      <th>4</th>\n",
       "      <td>7.2</td>\n",
       "      <td>0.23</td>\n",
       "      <td>0.32</td>\n",
       "      <td>8.5</td>\n",
       "      <td>0.058</td>\n",
       "      <td>47.0</td>\n",
       "      <td>186.0</td>\n",
       "      <td>0.9956</td>\n",
       "      <td>3.19</td>\n",
       "      <td>0.40</td>\n",
       "      <td>9.9</td>\n",
       "      <td>6</td>\n",
       "    </tr>\n",
       "  </tbody>\n",
       "</table>\n",
       "</div>"
      ],
      "text/plain": [
       "   fixed acidity  volatile acidity  citric acid  residual sugar  chlorides  \\\n",
       "0            7.0              0.27         0.36            20.7      0.045   \n",
       "1            6.3              0.30         0.34             1.6      0.049   \n",
       "2            8.1              0.28         0.40             6.9      0.050   \n",
       "3            7.2              0.23         0.32             8.5      0.058   \n",
       "4            7.2              0.23         0.32             8.5      0.058   \n",
       "\n",
       "   free sulfur dioxide  total sulfur dioxide  density    pH  sulphates  \\\n",
       "0                 45.0                 170.0   1.0010  3.00       0.45   \n",
       "1                 14.0                 132.0   0.9940  3.30       0.49   \n",
       "2                 30.0                  97.0   0.9951  3.26       0.44   \n",
       "3                 47.0                 186.0   0.9956  3.19       0.40   \n",
       "4                 47.0                 186.0   0.9956  3.19       0.40   \n",
       "\n",
       "   alcohol  quality  \n",
       "0      8.8        6  \n",
       "1      9.5        6  \n",
       "2     10.1        6  \n",
       "3      9.9        6  \n",
       "4      9.9        6  "
      ]
     },
     "execution_count": 17,
     "metadata": {},
     "output_type": "execute_result"
    }
   ],
   "source": [
    "df = pd.read_csv(\"winequality-white.csv\", delimiter=';')\n",
    "df.head()"
   ]
  },
  {
   "cell_type": "markdown",
   "metadata": {},
   "source": [
    "### Exploratory visual analysis"
   ]
  },
  {
   "cell_type": "code",
   "execution_count": 18,
   "metadata": {},
   "outputs": [
    {
     "data": {
      "image/png": "[encoded data removed]",
      "text/plain": [
       "<Figure size 432x288 with 1 Axes>"
      ]
     },
     "metadata": {
      "needs_background": "light"
     },
     "output_type": "display_data"
    },
    {
     "data": {
      "image/png": "[encoded data removed]",
      "text/plain": [
       "<Figure size 432x288 with 1 Axes>"
      ]
     },
     "metadata": {
      "needs_background": "light"
     },
     "output_type": "display_data"
    },
    {
     "data": {
      "image/png": "[encoded data removed]",
      "text/plain": [
       "<Figure size 432x288 with 1 Axes>"
      ]
     },
     "metadata": {
      "needs_background": "light"
     },
     "output_type": "display_data"
    },
    {
     "data": {
      "image/png": "[encoded data removed]",
      "text/plain": [
       "<Figure size 432x288 with 1 Axes>"
      ]
     },
     "metadata": {
      "needs_background": "light"
     },
     "output_type": "display_data"
    },
    {
     "data": {
      "image/png": "[encoded data removed]",
      "text/plain": [
       "<Figure size 432x288 with 1 Axes>"
      ]
     },
     "metadata": {
      "needs_background": "light"
     },
     "output_type": "display_data"
    },
    {
     "data": {
      "image/png": "[encoded data removed]",
      "text/plain": [
       "<Figure size 432x288 with 1 Axes>"
      ]
     },
     "metadata": {
      "needs_background": "light"
     },
     "output_type": "display_data"
    },
    {
     "data": {
      "image/png": "[encoded data removed]",
      "text/plain": [
       "<Figure size 432x288 with 1 Axes>"
      ]
     },
     "metadata": {
      "needs_background": "light"
     },
     "output_type": "display_data"
    },
    {
     "data": {
      "image/png": "[encoded data removed]",
      "text/plain": [
       "<Figure size 432x288 with 1 Axes>"
      ]
     },
     "metadata": {
      "needs_background": "light"
     },
     "output_type": "display_data"
    },
    {
     "data": {
      "image/png": "[encoded data removed]",
      "text/plain": [
       "<Figure size 432x288 with 1 Axes>"
      ]
     },
     "metadata": {
      "needs_background": "light"
     },
     "output_type": "display_data"
    },
    {
     "data": {
      "image/png": "[encoded data removed]",
      "text/plain": [
       "<Figure size 432x288 with 1 Axes>"
      ]
     },
     "metadata": {
      "needs_background": "light"
     },
     "output_type": "display_data"
    },
    {
     "data": {
      "image/png": "[encoded data removed]",
      "text/plain": [
       "<Figure size 432x288 with 1 Axes>"
      ]
     },
     "metadata": {
      "needs_background": "light"
     },
     "output_type": "display_data"
    }
   ],
   "source": [
    "for label in df.columns [:-1]:\n",
    "    plt.boxplot([df[df['quality']==i][label] for i in range (1, 11)])\n",
    "    plt.title(label)\n",
    "    plt.xlabel('quality')\n",
    "    plt.ylabel(label)\n",
    "    plt.savefig('imgs/'+'white'.join(label.split(' ')))\n",
    "    plt.show()"
   ]
  },
  {
   "cell_type": "markdown",
   "metadata": {},
   "source": [
    "### Gathering training and testing data\n",
    "\n",
    "Quality is currently a score /10 with all entries ranging from 0 to 9. We have not however defined what we would consider good/ok/bad wine so lets map these to low(0), mid(1), and high(1) quality wines.\n"
   ]
  },
  {
   "cell_type": "code",
   "execution_count": 19,
   "metadata": {},
   "outputs": [
    {
     "data": {
      "text/html": [
       "<div>\n",
       "<style scoped>\n",
       "    .dataframe tbody tr th:only-of-type {\n",
       "        vertical-align: middle;\n",
       "    }\n",
       "\n",
       "    .dataframe tbody tr th {\n",
       "        vertical-align: top;\n",
       "    }\n",
       "\n",
       "    .dataframe thead th {\n",
       "        text-align: right;\n",
       "    }\n",
       "</style>\n",
       "<table border=\"1\" class=\"dataframe\">\n",
       "  <thead>\n",
       "    <tr style=\"text-align: right;\">\n",
       "      <th></th>\n",
       "      <th>fixed acidity</th>\n",
       "      <th>volatile acidity</th>\n",
       "      <th>citric acid</th>\n",
       "      <th>residual sugar</th>\n",
       "      <th>chlorides</th>\n",
       "      <th>free sulfur dioxide</th>\n",
       "      <th>total sulfur dioxide</th>\n",
       "      <th>density</th>\n",
       "      <th>pH</th>\n",
       "      <th>sulphates</th>\n",
       "      <th>alcohol</th>\n",
       "      <th>quality</th>\n",
       "    </tr>\n",
       "  </thead>\n",
       "  <tbody>\n",
       "    <tr>\n",
       "      <th>0</th>\n",
       "      <td>7.0</td>\n",
       "      <td>0.27</td>\n",
       "      <td>0.36</td>\n",
       "      <td>20.7</td>\n",
       "      <td>0.045</td>\n",
       "      <td>45.0</td>\n",
       "      <td>170.0</td>\n",
       "      <td>1.0010</td>\n",
       "      <td>3.00</td>\n",
       "      <td>0.45</td>\n",
       "      <td>8.8</td>\n",
       "      <td>1</td>\n",
       "    </tr>\n",
       "    <tr>\n",
       "      <th>1</th>\n",
       "      <td>6.3</td>\n",
       "      <td>0.30</td>\n",
       "      <td>0.34</td>\n",
       "      <td>1.6</td>\n",
       "      <td>0.049</td>\n",
       "      <td>14.0</td>\n",
       "      <td>132.0</td>\n",
       "      <td>0.9940</td>\n",
       "      <td>3.30</td>\n",
       "      <td>0.49</td>\n",
       "      <td>9.5</td>\n",
       "      <td>1</td>\n",
       "    </tr>\n",
       "    <tr>\n",
       "      <th>2</th>\n",
       "      <td>8.1</td>\n",
       "      <td>0.28</td>\n",
       "      <td>0.40</td>\n",
       "      <td>6.9</td>\n",
       "      <td>0.050</td>\n",
       "      <td>30.0</td>\n",
       "      <td>97.0</td>\n",
       "      <td>0.9951</td>\n",
       "      <td>3.26</td>\n",
       "      <td>0.44</td>\n",
       "      <td>10.1</td>\n",
       "      <td>1</td>\n",
       "    </tr>\n",
       "    <tr>\n",
       "      <th>3</th>\n",
       "      <td>7.2</td>\n",
       "      <td>0.23</td>\n",
       "      <td>0.32</td>\n",
       "      <td>8.5</td>\n",
       "      <td>0.058</td>\n",
       "      <td>47.0</td>\n",
       "      <td>186.0</td>\n",
       "      <td>0.9956</td>\n",
       "      <td>3.19</td>\n",
       "      <td>0.40</td>\n",
       "      <td>9.9</td>\n",
       "      <td>1</td>\n",
       "    </tr>\n",
       "    <tr>\n",
       "      <th>4</th>\n",
       "      <td>7.2</td>\n",
       "      <td>0.23</td>\n",
       "      <td>0.32</td>\n",
       "      <td>8.5</td>\n",
       "      <td>0.058</td>\n",
       "      <td>47.0</td>\n",
       "      <td>186.0</td>\n",
       "      <td>0.9956</td>\n",
       "      <td>3.19</td>\n",
       "      <td>0.40</td>\n",
       "      <td>9.9</td>\n",
       "      <td>1</td>\n",
       "    </tr>\n",
       "  </tbody>\n",
       "</table>\n",
       "</div>"
      ],
      "text/plain": [
       "   fixed acidity  volatile acidity  citric acid  residual sugar  chlorides  \\\n",
       "0            7.0              0.27         0.36            20.7      0.045   \n",
       "1            6.3              0.30         0.34             1.6      0.049   \n",
       "2            8.1              0.28         0.40             6.9      0.050   \n",
       "3            7.2              0.23         0.32             8.5      0.058   \n",
       "4            7.2              0.23         0.32             8.5      0.058   \n",
       "\n",
       "   free sulfur dioxide  total sulfur dioxide  density    pH  sulphates  \\\n",
       "0                 45.0                 170.0   1.0010  3.00       0.45   \n",
       "1                 14.0                 132.0   0.9940  3.30       0.49   \n",
       "2                 30.0                  97.0   0.9951  3.26       0.44   \n",
       "3                 47.0                 186.0   0.9956  3.19       0.40   \n",
       "4                 47.0                 186.0   0.9956  3.19       0.40   \n",
       "\n",
       "   alcohol quality  \n",
       "0      8.8       1  \n",
       "1      9.5       1  \n",
       "2     10.1       1  \n",
       "3      9.9       1  \n",
       "4      9.9       1  "
      ]
     },
     "execution_count": 19,
     "metadata": {},
     "output_type": "execute_result"
    }
   ],
   "source": [
    "bins = [0, 5.5, 7.5, 10] #these are the bounds for low, mid, and high quality wines\n",
    "labels = [0, 1, 2] #i.e. this means 3-35 are low, 6-7 are mod, and 8,9 are high\n",
    "df['quality'] = pd.cut(df['quality'], bins=bins, labels=labels)\n",
    "df.head()"
   ]
  },
  {
   "cell_type": "code",
   "execution_count": 23,
   "metadata": {},
   "outputs": [],
   "source": [
    "x = df[df.columns[:-1]]\n",
    "y = df['quality']\n",
    "sc = StandardScaler()\n",
    "x = sc.fit_transform(x)\n",
    "\n",
    "x_train, x_test, y_train, y_test  = train_test_split(x, y, test_size = 0.2, random_state = 42) #20% test siz, 80% train size"
   ]
  },
  {
   "cell_type": "code",
   "execution_count": 24,
   "metadata": {},
   "outputs": [
    {
     "name": "stdout",
     "output_type": "stream",
     "text": [
      "count     3918\n",
      "unique       3\n",
      "top          1\n",
      "freq      2454\n",
      "Name: quality, dtype: int64\n",
      "count     980\n",
      "unique      3\n",
      "top         1\n",
      "freq      624\n",
      "Name: quality, dtype: int64\n"
     ]
    }
   ],
   "source": [
    "for data in [y_train, y_test]:\n",
    "    print(data.describe())"
   ]
  },
  {
   "cell_type": "markdown",
   "metadata": {},
   "source": [
    "Now we have around 4000 entries in training data, and 1000 entires in test data."
   ]
  },
  {
   "cell_type": "markdown",
   "metadata": {},
   "source": [
    "### K Nearest Neighbors Classifier"
   ]
  },
  {
   "cell_type": "code",
   "execution_count": 34,
   "metadata": {},
   "outputs": [
    {
     "name": "stdout",
     "output_type": "stream",
     "text": [
      "              precision    recall  f1-score   support\n",
      "\n",
      "           0       0.62      0.62      0.62       321\n",
      "           1       0.77      0.79      0.78       624\n",
      "           2       0.39      0.26      0.31        35\n",
      "\n",
      "    accuracy                           0.72       980\n",
      "   macro avg       0.60      0.56      0.57       980\n",
      "weighted avg       0.71      0.72      0.71       980\n",
      "\n",
      "Cross validaion score: 0.7292016806722689\n"
     ]
    }
   ],
   "source": [
    "# 3 nearest neighbour\n",
    "\n",
    "n3 = KNeighborsClassifier(n_neighbors = 3)\n",
    "n3.fit(x_train, y_train)\n",
    "pred_n3 = n3.predict(x_test)\n",
    "print(classification_report(y_test, pred_n3))\n",
    "cross_val = cross_val_score(estimator=n3, X=x_train, y=y_train, cv=10)\n",
    "print(\"Cross validaion score:\",cross_val.mean())"
   ]
  },
  {
   "cell_type": "code",
   "execution_count": 36,
   "metadata": {},
   "outputs": [
    {
     "name": "stdout",
     "output_type": "stream",
     "text": [
      "              precision    recall  f1-score   support\n",
      "\n",
      "           0       0.62      0.62      0.62       321\n",
      "           1       0.77      0.79      0.78       624\n",
      "           2       0.39      0.26      0.31        35\n",
      "\n",
      "    accuracy                           0.72       980\n",
      "   macro avg       0.60      0.56      0.57       980\n",
      "weighted avg       0.71      0.72      0.71       980\n",
      "\n",
      "Cross validaion score: 0.7225618508272874\n"
     ]
    }
   ],
   "source": [
    "# 5 nearest neighbour\n",
    "\n",
    "n5 = KNeighborsClassifier(n_neighbors = 5)\n",
    "n5.fit(x_train, y_train)\n",
    "pred_n5 = n3.predict(x_test)\n",
    "print(classification_report(y_test, pred_n5))\n",
    "cross_val = cross_val_score(estimator=n5, X=x_train, y=y_train, cv=10)\n",
    "print(\"Cross validaion score:\",cross_val.mean())"
   ]
  },
  {
   "cell_type": "markdown",
   "metadata": {},
   "source": [
    "### Random Forest Classifier"
   ]
  },
  {
   "cell_type": "code",
   "execution_count": 40,
   "metadata": {},
   "outputs": [
    {
     "name": "stdout",
     "output_type": "stream",
     "text": [
      "              precision    recall  f1-score   support\n",
      "\n",
      "           0       0.80      0.73      0.76       321\n",
      "           1       0.84      0.90      0.87       624\n",
      "           2       1.00      0.43      0.60        35\n",
      "\n",
      "    accuracy                           0.83       980\n",
      "   macro avg       0.88      0.69      0.74       980\n",
      "weighted avg       0.83      0.83      0.83       980\n",
      "\n",
      "Cross validaion score: 0.8044880995876612\n"
     ]
    }
   ],
   "source": [
    "rf = RandomForestClassifier()\n",
    "rf.fit(x_train, y_train)\n",
    "pred_rf = rf.predict(x_test)\n",
    "print(classification_report(y_test, pred_rf))\n",
    "cross_val = cross_val_score(estimator=rf, X=x_train, y=y_train, cv=10)\n",
    "print(\"Cross validaion score:\",cross_val.mean())"
   ]
  },
  {
   "cell_type": "markdown",
   "metadata": {},
   "source": [
    "### Decision Tree Classifier"
   ]
  },
  {
   "cell_type": "code",
   "execution_count": 42,
   "metadata": {},
   "outputs": [
    {
     "name": "stdout",
     "output_type": "stream",
     "text": [
      "              precision    recall  f1-score   support\n",
      "\n",
      "           0       0.66      0.64      0.65       321\n",
      "           1       0.79      0.78      0.79       624\n",
      "           2       0.34      0.51      0.41        35\n",
      "\n",
      "    accuracy                           0.72       980\n",
      "   macro avg       0.60      0.64      0.61       980\n",
      "weighted avg       0.73      0.72      0.73       980\n",
      "\n",
      "Cross validaion score: 0.737874497625137\n"
     ]
    }
   ],
   "source": [
    "dt = DecisionTreeClassifier()\n",
    "dt.fit(x_train, y_train)\n",
    "pred_dt = dt.predict(x_test)\n",
    "print(classification_report(y_test, pred_dt))\n",
    "cross_val = cross_val_score(estimator=dt, X=x_train, y=y_train, cv=10)\n",
    "print(\"Cross validaion score:\",cross_val.mean())"
   ]
  },
  {
   "cell_type": "markdown",
   "metadata": {},
   "source": [
    "### Stochastic Gradient Descent"
   ]
  },
  {
   "cell_type": "code",
   "execution_count": 45,
   "metadata": {},
   "outputs": [
    {
     "name": "stderr",
     "output_type": "stream",
     "text": [
      "C:\\Users\\callu\\anaconda3\\lib\\site-packages\\sklearn\\metrics\\_classification.py:1221: UndefinedMetricWarning: Precision and F-score are ill-defined and being set to 0.0 in labels with no predicted samples. Use `zero_division` parameter to control this behavior.\n",
      "  _warn_prf(average, modifier, msg_start, len(result))\n"
     ]
    },
    {
     "name": "stdout",
     "output_type": "stream",
     "text": [
      "              precision    recall  f1-score   support\n",
      "\n",
      "           0       0.68      0.43      0.52       321\n",
      "           1       0.72      0.90      0.80       624\n",
      "           2       0.00      0.00      0.00        35\n",
      "\n",
      "    accuracy                           0.71       980\n",
      "   macro avg       0.47      0.44      0.44       980\n",
      "weighted avg       0.68      0.71      0.68       980\n",
      "\n",
      "Cross validaion score: 0.6927031682238113\n"
     ]
    }
   ],
   "source": [
    "sgd = SGDClassifier()\n",
    "sgd.fit(x_train, y_train)\n",
    "pred_sgd = sgd.predict(x_test)\n",
    "print(classification_report(y_test, pred_sgd))\n",
    "cross_val = cross_val_score(estimator=sgd, X=x_train, y=y_train, cv=10)\n",
    "print(\"Cross validaion score:\", cross_val.mean())"
   ]
  },
  {
   "cell_type": "markdown",
   "metadata": {},
   "source": [
    "### Trying to improve results\n",
    "\n",
    "As a random forest seems to be the best model at this stage, we are going to attempt to optimise the parameters of this model."
   ]
  },
  {
   "cell_type": "code",
   "execution_count": 49,
   "metadata": {},
   "outputs": [
    {
     "name": "stdout",
     "output_type": "stream",
     "text": [
      "Fitting 3 folds for each of 100 candidates, totalling 300 fits\n",
      "[CV] n_estimators=1000, min_samples_split=10, min_samples_leaf=2, max_features=sqrt, max_depth=10, bootstrap=True \n"
     ]
    },
    {
     "name": "stderr",
     "output_type": "stream",
     "text": [
      "[Parallel(n_jobs=1)]: Using backend SequentialBackend with 1 concurrent workers.\n"
     ]
    },
    {
     "name": "stdout",
     "output_type": "stream",
     "text": [
      "[CV]  n_estimators=1000, min_samples_split=10, min_samples_leaf=2, max_features=sqrt, max_depth=10, bootstrap=True, total=   7.0s\n",
      "[CV] n_estimators=1000, min_samples_split=10, min_samples_leaf=2, max_features=sqrt, max_depth=10, bootstrap=True \n"
     ]
    },
    {
     "name": "stderr",
     "output_type": "stream",
     "text": [
      "[Parallel(n_jobs=1)]: Done   1 out of   1 | elapsed:    6.9s remaining:    0.0s\n"
     ]
    },
    {
     "name": "stdout",
     "output_type": "stream",
     "text": [
      "[CV]  n_estimators=1000, min_samples_split=10, min_samples_leaf=2, max_features=sqrt, max_depth=10, bootstrap=True, total=   6.5s\n",
      "[CV] n_estimators=1000, min_samples_split=10, min_samples_leaf=2, max_features=sqrt, max_depth=10, bootstrap=True \n",
      "[CV]  n_estimators=1000, min_samples_split=10, min_samples_leaf=2, max_features=sqrt, max_depth=10, bootstrap=True, total=   8.4s\n",
      "[CV] n_estimators=577, min_samples_split=2, min_samples_leaf=2, max_features=sqrt, max_depth=65, bootstrap=True \n",
      "[CV]  n_estimators=577, min_samples_split=2, min_samples_leaf=2, max_features=sqrt, max_depth=65, bootstrap=True, total=   5.3s\n",
      "[CV] n_estimators=577, min_samples_split=2, min_samples_leaf=2, max_features=sqrt, max_depth=65, bootstrap=True \n",
      "[CV]  n_estimators=577, min_samples_split=2, min_samples_leaf=2, max_features=sqrt, max_depth=65, bootstrap=True, total=   5.9s\n",
      "[CV] n_estimators=577, min_samples_split=2, min_samples_leaf=2, max_features=sqrt, max_depth=65, bootstrap=True \n",
      "[CV]  n_estimators=577, min_samples_split=2, min_samples_leaf=2, max_features=sqrt, max_depth=65, bootstrap=True, total=   6.4s\n",
      "[CV] n_estimators=683, min_samples_split=5, min_samples_leaf=2, max_features=auto, max_depth=None, bootstrap=True \n",
      "[CV]  n_estimators=683, min_samples_split=5, min_samples_leaf=2, max_features=auto, max_depth=None, bootstrap=True, total=   7.2s\n",
      "[CV] n_estimators=683, min_samples_split=5, min_samples_leaf=2, max_features=auto, max_depth=None, bootstrap=True \n",
      "[CV]  n_estimators=683, min_samples_split=5, min_samples_leaf=2, max_features=auto, max_depth=None, bootstrap=True, total=   6.1s\n",
      "[CV] n_estimators=683, min_samples_split=5, min_samples_leaf=2, max_features=auto, max_depth=None, bootstrap=True \n",
      "[CV]  n_estimators=683, min_samples_split=5, min_samples_leaf=2, max_features=auto, max_depth=None, bootstrap=True, total=   4.9s\n",
      "[CV] n_estimators=50, min_samples_split=2, min_samples_leaf=1, max_features=auto, max_depth=54, bootstrap=True \n",
      "[CV]  n_estimators=50, min_samples_split=2, min_samples_leaf=1, max_features=auto, max_depth=54, bootstrap=True, total=   0.4s\n",
      "[CV] n_estimators=50, min_samples_split=2, min_samples_leaf=1, max_features=auto, max_depth=54, bootstrap=True \n",
      "[CV]  n_estimators=50, min_samples_split=2, min_samples_leaf=1, max_features=auto, max_depth=54, bootstrap=True, total=   0.4s\n",
      "[CV] n_estimators=50, min_samples_split=2, min_samples_leaf=1, max_features=auto, max_depth=54, bootstrap=True \n",
      "[CV]  n_estimators=50, min_samples_split=2, min_samples_leaf=1, max_features=auto, max_depth=54, bootstrap=True, total=   0.4s\n",
      "[CV] n_estimators=577, min_samples_split=10, min_samples_leaf=2, max_features=sqrt, max_depth=21, bootstrap=True \n",
      "[CV]  n_estimators=577, min_samples_split=10, min_samples_leaf=2, max_features=sqrt, max_depth=21, bootstrap=True, total=   4.2s\n",
      "[CV] n_estimators=577, min_samples_split=10, min_samples_leaf=2, max_features=sqrt, max_depth=21, bootstrap=True \n",
      "[CV]  n_estimators=577, min_samples_split=10, min_samples_leaf=2, max_features=sqrt, max_depth=21, bootstrap=True, total=   4.0s\n",
      "[CV] n_estimators=577, min_samples_split=10, min_samples_leaf=2, max_features=sqrt, max_depth=21, bootstrap=True \n",
      "[CV]  n_estimators=577, min_samples_split=10, min_samples_leaf=2, max_features=sqrt, max_depth=21, bootstrap=True, total=   3.9s\n",
      "[CV] n_estimators=788, min_samples_split=5, min_samples_leaf=2, max_features=sqrt, max_depth=54, bootstrap=True \n",
      "[CV]  n_estimators=788, min_samples_split=5, min_samples_leaf=2, max_features=sqrt, max_depth=54, bootstrap=True, total=   5.6s\n",
      "[CV] n_estimators=788, min_samples_split=5, min_samples_leaf=2, max_features=sqrt, max_depth=54, bootstrap=True \n",
      "[CV]  n_estimators=788, min_samples_split=5, min_samples_leaf=2, max_features=sqrt, max_depth=54, bootstrap=True, total=   5.5s\n",
      "[CV] n_estimators=788, min_samples_split=5, min_samples_leaf=2, max_features=sqrt, max_depth=54, bootstrap=True \n",
      "[CV]  n_estimators=788, min_samples_split=5, min_samples_leaf=2, max_features=sqrt, max_depth=54, bootstrap=True, total=   5.5s\n",
      "[CV] n_estimators=366, min_samples_split=2, min_samples_leaf=1, max_features=sqrt, max_depth=76, bootstrap=False \n",
      "[CV]  n_estimators=366, min_samples_split=2, min_samples_leaf=1, max_features=sqrt, max_depth=76, bootstrap=False, total=   4.0s\n",
      "[CV] n_estimators=366, min_samples_split=2, min_samples_leaf=1, max_features=sqrt, max_depth=76, bootstrap=False \n",
      "[CV]  n_estimators=366, min_samples_split=2, min_samples_leaf=1, max_features=sqrt, max_depth=76, bootstrap=False, total=   4.8s\n",
      "[CV] n_estimators=366, min_samples_split=2, min_samples_leaf=1, max_features=sqrt, max_depth=76, bootstrap=False \n",
      "[CV]  n_estimators=366, min_samples_split=2, min_samples_leaf=1, max_features=sqrt, max_depth=76, bootstrap=False, total=   4.7s\n",
      "[CV] n_estimators=894, min_samples_split=5, min_samples_leaf=2, max_features=auto, max_depth=32, bootstrap=True \n",
      "[CV]  n_estimators=894, min_samples_split=5, min_samples_leaf=2, max_features=auto, max_depth=32, bootstrap=True, total=   7.5s\n",
      "[CV] n_estimators=894, min_samples_split=5, min_samples_leaf=2, max_features=auto, max_depth=32, bootstrap=True \n",
      "[CV]  n_estimators=894, min_samples_split=5, min_samples_leaf=2, max_features=auto, max_depth=32, bootstrap=True, total=   8.7s\n",
      "[CV] n_estimators=894, min_samples_split=5, min_samples_leaf=2, max_features=auto, max_depth=32, bootstrap=True \n",
      "[CV]  n_estimators=894, min_samples_split=5, min_samples_leaf=2, max_features=auto, max_depth=32, bootstrap=True, total=   7.1s\n",
      "[CV] n_estimators=261, min_samples_split=2, min_samples_leaf=2, max_features=sqrt, max_depth=54, bootstrap=False \n",
      "[CV]  n_estimators=261, min_samples_split=2, min_samples_leaf=2, max_features=sqrt, max_depth=54, bootstrap=False, total=   2.6s\n",
      "[CV] n_estimators=261, min_samples_split=2, min_samples_leaf=2, max_features=sqrt, max_depth=54, bootstrap=False \n",
      "[CV]  n_estimators=261, min_samples_split=2, min_samples_leaf=2, max_features=sqrt, max_depth=54, bootstrap=False, total=   2.6s\n",
      "[CV] n_estimators=261, min_samples_split=2, min_samples_leaf=2, max_features=sqrt, max_depth=54, bootstrap=False \n",
      "[CV]  n_estimators=261, min_samples_split=2, min_samples_leaf=2, max_features=sqrt, max_depth=54, bootstrap=False, total=   2.5s\n",
      "[CV] n_estimators=472, min_samples_split=5, min_samples_leaf=4, max_features=sqrt, max_depth=98, bootstrap=False \n",
      "[CV]  n_estimators=472, min_samples_split=5, min_samples_leaf=4, max_features=sqrt, max_depth=98, bootstrap=False, total=   4.3s\n",
      "[CV] n_estimators=472, min_samples_split=5, min_samples_leaf=4, max_features=sqrt, max_depth=98, bootstrap=False \n",
      "[CV]  n_estimators=472, min_samples_split=5, min_samples_leaf=4, max_features=sqrt, max_depth=98, bootstrap=False, total=   4.1s\n",
      "[CV] n_estimators=472, min_samples_split=5, min_samples_leaf=4, max_features=sqrt, max_depth=98, bootstrap=False \n",
      "[CV]  n_estimators=472, min_samples_split=5, min_samples_leaf=4, max_features=sqrt, max_depth=98, bootstrap=False, total=   4.3s\n",
      "[CV] n_estimators=894, min_samples_split=10, min_samples_leaf=1, max_features=auto, max_depth=87, bootstrap=False \n",
      "[CV]  n_estimators=894, min_samples_split=10, min_samples_leaf=1, max_features=auto, max_depth=87, bootstrap=False, total=   9.3s\n",
      "[CV] n_estimators=894, min_samples_split=10, min_samples_leaf=1, max_features=auto, max_depth=87, bootstrap=False \n",
      "[CV]  n_estimators=894, min_samples_split=10, min_samples_leaf=1, max_features=auto, max_depth=87, bootstrap=False, total=   9.7s\n",
      "[CV] n_estimators=894, min_samples_split=10, min_samples_leaf=1, max_features=auto, max_depth=87, bootstrap=False \n",
      "[CV]  n_estimators=894, min_samples_split=10, min_samples_leaf=1, max_features=auto, max_depth=87, bootstrap=False, total=   9.5s\n",
      "[CV] n_estimators=1000, min_samples_split=2, min_samples_leaf=4, max_features=auto, max_depth=98, bootstrap=False \n",
      "[CV]  n_estimators=1000, min_samples_split=2, min_samples_leaf=4, max_features=auto, max_depth=98, bootstrap=False, total=   9.0s\n",
      "[CV] n_estimators=1000, min_samples_split=2, min_samples_leaf=4, max_features=auto, max_depth=98, bootstrap=False \n",
      "[CV]  n_estimators=1000, min_samples_split=2, min_samples_leaf=4, max_features=auto, max_depth=98, bootstrap=False, total=   8.8s\n",
      "[CV] n_estimators=1000, min_samples_split=2, min_samples_leaf=4, max_features=auto, max_depth=98, bootstrap=False \n"
     ]
    },
    {
     "name": "stdout",
     "output_type": "stream",
     "text": [
      "[CV]  n_estimators=1000, min_samples_split=2, min_samples_leaf=4, max_features=auto, max_depth=98, bootstrap=False, total=   8.7s\n",
      "[CV] n_estimators=1000, min_samples_split=10, min_samples_leaf=2, max_features=auto, max_depth=98, bootstrap=False \n",
      "[CV]  n_estimators=1000, min_samples_split=10, min_samples_leaf=2, max_features=auto, max_depth=98, bootstrap=False, total=   9.5s\n",
      "[CV] n_estimators=1000, min_samples_split=10, min_samples_leaf=2, max_features=auto, max_depth=98, bootstrap=False \n",
      "[CV]  n_estimators=1000, min_samples_split=10, min_samples_leaf=2, max_features=auto, max_depth=98, bootstrap=False, total=   9.0s\n",
      "[CV] n_estimators=1000, min_samples_split=10, min_samples_leaf=2, max_features=auto, max_depth=98, bootstrap=False \n",
      "[CV]  n_estimators=1000, min_samples_split=10, min_samples_leaf=2, max_features=auto, max_depth=98, bootstrap=False, total=   9.0s\n",
      "[CV] n_estimators=472, min_samples_split=10, min_samples_leaf=4, max_features=sqrt, max_depth=21, bootstrap=True \n",
      "[CV]  n_estimators=472, min_samples_split=10, min_samples_leaf=4, max_features=sqrt, max_depth=21, bootstrap=True, total=   3.1s\n",
      "[CV] n_estimators=472, min_samples_split=10, min_samples_leaf=4, max_features=sqrt, max_depth=21, bootstrap=True \n",
      "[CV]  n_estimators=472, min_samples_split=10, min_samples_leaf=4, max_features=sqrt, max_depth=21, bootstrap=True, total=   3.0s\n",
      "[CV] n_estimators=472, min_samples_split=10, min_samples_leaf=4, max_features=sqrt, max_depth=21, bootstrap=True \n",
      "[CV]  n_estimators=472, min_samples_split=10, min_samples_leaf=4, max_features=sqrt, max_depth=21, bootstrap=True, total=   3.0s\n",
      "[CV] n_estimators=155, min_samples_split=2, min_samples_leaf=1, max_features=sqrt, max_depth=98, bootstrap=False \n",
      "[CV]  n_estimators=155, min_samples_split=2, min_samples_leaf=1, max_features=sqrt, max_depth=98, bootstrap=False, total=   1.5s\n",
      "[CV] n_estimators=155, min_samples_split=2, min_samples_leaf=1, max_features=sqrt, max_depth=98, bootstrap=False \n",
      "[CV]  n_estimators=155, min_samples_split=2, min_samples_leaf=1, max_features=sqrt, max_depth=98, bootstrap=False, total=   1.5s\n",
      "[CV] n_estimators=155, min_samples_split=2, min_samples_leaf=1, max_features=sqrt, max_depth=98, bootstrap=False \n",
      "[CV]  n_estimators=155, min_samples_split=2, min_samples_leaf=1, max_features=sqrt, max_depth=98, bootstrap=False, total=   1.5s\n",
      "[CV] n_estimators=1000, min_samples_split=10, min_samples_leaf=4, max_features=sqrt, max_depth=10, bootstrap=False \n",
      "[CV]  n_estimators=1000, min_samples_split=10, min_samples_leaf=4, max_features=sqrt, max_depth=10, bootstrap=False, total=   7.2s\n",
      "[CV] n_estimators=1000, min_samples_split=10, min_samples_leaf=4, max_features=sqrt, max_depth=10, bootstrap=False \n",
      "[CV]  n_estimators=1000, min_samples_split=10, min_samples_leaf=4, max_features=sqrt, max_depth=10, bootstrap=False, total=   9.4s\n",
      "[CV] n_estimators=1000, min_samples_split=10, min_samples_leaf=4, max_features=sqrt, max_depth=10, bootstrap=False \n",
      "[CV]  n_estimators=1000, min_samples_split=10, min_samples_leaf=4, max_features=sqrt, max_depth=10, bootstrap=False, total=   8.2s\n",
      "[CV] n_estimators=50, min_samples_split=5, min_samples_leaf=2, max_features=sqrt, max_depth=43, bootstrap=False \n",
      "[CV]  n_estimators=50, min_samples_split=5, min_samples_leaf=2, max_features=sqrt, max_depth=43, bootstrap=False, total=   0.6s\n",
      "[CV] n_estimators=50, min_samples_split=5, min_samples_leaf=2, max_features=sqrt, max_depth=43, bootstrap=False \n",
      "[CV]  n_estimators=50, min_samples_split=5, min_samples_leaf=2, max_features=sqrt, max_depth=43, bootstrap=False, total=   0.5s\n",
      "[CV] n_estimators=50, min_samples_split=5, min_samples_leaf=2, max_features=sqrt, max_depth=43, bootstrap=False \n",
      "[CV]  n_estimators=50, min_samples_split=5, min_samples_leaf=2, max_features=sqrt, max_depth=43, bootstrap=False, total=   0.5s\n",
      "[CV] n_estimators=577, min_samples_split=2, min_samples_leaf=2, max_features=auto, max_depth=76, bootstrap=False \n",
      "[CV]  n_estimators=577, min_samples_split=2, min_samples_leaf=2, max_features=auto, max_depth=76, bootstrap=False, total=   6.2s\n",
      "[CV] n_estimators=577, min_samples_split=2, min_samples_leaf=2, max_features=auto, max_depth=76, bootstrap=False \n",
      "[CV]  n_estimators=577, min_samples_split=2, min_samples_leaf=2, max_features=auto, max_depth=76, bootstrap=False, total=   6.2s\n",
      "[CV] n_estimators=577, min_samples_split=2, min_samples_leaf=2, max_features=auto, max_depth=76, bootstrap=False \n",
      "[CV]  n_estimators=577, min_samples_split=2, min_samples_leaf=2, max_features=auto, max_depth=76, bootstrap=False, total=   6.4s\n",
      "[CV] n_estimators=683, min_samples_split=5, min_samples_leaf=4, max_features=sqrt, max_depth=32, bootstrap=False \n",
      "[CV]  n_estimators=683, min_samples_split=5, min_samples_leaf=4, max_features=sqrt, max_depth=32, bootstrap=False, total=   9.6s\n",
      "[CV] n_estimators=683, min_samples_split=5, min_samples_leaf=4, max_features=sqrt, max_depth=32, bootstrap=False \n",
      "[CV]  n_estimators=683, min_samples_split=5, min_samples_leaf=4, max_features=sqrt, max_depth=32, bootstrap=False, total=  10.4s\n",
      "[CV] n_estimators=683, min_samples_split=5, min_samples_leaf=4, max_features=sqrt, max_depth=32, bootstrap=False \n",
      "[CV]  n_estimators=683, min_samples_split=5, min_samples_leaf=4, max_features=sqrt, max_depth=32, bootstrap=False, total=   8.6s\n",
      "[CV] n_estimators=1000, min_samples_split=5, min_samples_leaf=1, max_features=sqrt, max_depth=76, bootstrap=True \n",
      "[CV]  n_estimators=1000, min_samples_split=5, min_samples_leaf=1, max_features=sqrt, max_depth=76, bootstrap=True, total=  11.9s\n",
      "[CV] n_estimators=1000, min_samples_split=5, min_samples_leaf=1, max_features=sqrt, max_depth=76, bootstrap=True \n",
      "[CV]  n_estimators=1000, min_samples_split=5, min_samples_leaf=1, max_features=sqrt, max_depth=76, bootstrap=True, total=   9.4s\n",
      "[CV] n_estimators=1000, min_samples_split=5, min_samples_leaf=1, max_features=sqrt, max_depth=76, bootstrap=True \n",
      "[CV]  n_estimators=1000, min_samples_split=5, min_samples_leaf=1, max_features=sqrt, max_depth=76, bootstrap=True, total=  11.1s\n",
      "[CV] n_estimators=472, min_samples_split=5, min_samples_leaf=4, max_features=auto, max_depth=None, bootstrap=True \n",
      "[CV]  n_estimators=472, min_samples_split=5, min_samples_leaf=4, max_features=auto, max_depth=None, bootstrap=True, total=   5.0s\n",
      "[CV] n_estimators=472, min_samples_split=5, min_samples_leaf=4, max_features=auto, max_depth=None, bootstrap=True \n",
      "[CV]  n_estimators=472, min_samples_split=5, min_samples_leaf=4, max_features=auto, max_depth=None, bootstrap=True, total=   3.5s\n",
      "[CV] n_estimators=472, min_samples_split=5, min_samples_leaf=4, max_features=auto, max_depth=None, bootstrap=True \n",
      "[CV]  n_estimators=472, min_samples_split=5, min_samples_leaf=4, max_features=auto, max_depth=None, bootstrap=True, total=   4.8s\n",
      "[CV] n_estimators=50, min_samples_split=2, min_samples_leaf=4, max_features=auto, max_depth=32, bootstrap=False \n",
      "[CV]  n_estimators=50, min_samples_split=2, min_samples_leaf=4, max_features=auto, max_depth=32, bootstrap=False, total=   0.5s\n",
      "[CV] n_estimators=50, min_samples_split=2, min_samples_leaf=4, max_features=auto, max_depth=32, bootstrap=False \n",
      "[CV]  n_estimators=50, min_samples_split=2, min_samples_leaf=4, max_features=auto, max_depth=32, bootstrap=False, total=   0.5s\n",
      "[CV] n_estimators=50, min_samples_split=2, min_samples_leaf=4, max_features=auto, max_depth=32, bootstrap=False \n",
      "[CV]  n_estimators=50, min_samples_split=2, min_samples_leaf=4, max_features=auto, max_depth=32, bootstrap=False, total=   0.6s\n",
      "[CV] n_estimators=155, min_samples_split=2, min_samples_leaf=4, max_features=sqrt, max_depth=76, bootstrap=True \n",
      "[CV]  n_estimators=155, min_samples_split=2, min_samples_leaf=4, max_features=sqrt, max_depth=76, bootstrap=True, total=   1.1s\n",
      "[CV] n_estimators=155, min_samples_split=2, min_samples_leaf=4, max_features=sqrt, max_depth=76, bootstrap=True \n",
      "[CV]  n_estimators=155, min_samples_split=2, min_samples_leaf=4, max_features=sqrt, max_depth=76, bootstrap=True, total=   1.0s\n",
      "[CV] n_estimators=155, min_samples_split=2, min_samples_leaf=4, max_features=sqrt, max_depth=76, bootstrap=True \n",
      "[CV]  n_estimators=155, min_samples_split=2, min_samples_leaf=4, max_features=sqrt, max_depth=76, bootstrap=True, total=   1.0s\n",
      "[CV] n_estimators=788, min_samples_split=5, min_samples_leaf=2, max_features=sqrt, max_depth=98, bootstrap=False \n"
     ]
    },
    {
     "name": "stdout",
     "output_type": "stream",
     "text": [
      "[CV]  n_estimators=788, min_samples_split=5, min_samples_leaf=2, max_features=sqrt, max_depth=98, bootstrap=False, total=   8.4s\n",
      "[CV] n_estimators=788, min_samples_split=5, min_samples_leaf=2, max_features=sqrt, max_depth=98, bootstrap=False \n",
      "[CV]  n_estimators=788, min_samples_split=5, min_samples_leaf=2, max_features=sqrt, max_depth=98, bootstrap=False, total=   7.5s\n",
      "[CV] n_estimators=788, min_samples_split=5, min_samples_leaf=2, max_features=sqrt, max_depth=98, bootstrap=False \n",
      "[CV]  n_estimators=788, min_samples_split=5, min_samples_leaf=2, max_features=sqrt, max_depth=98, bootstrap=False, total=   8.4s\n",
      "[CV] n_estimators=50, min_samples_split=2, min_samples_leaf=1, max_features=sqrt, max_depth=None, bootstrap=False \n",
      "[CV]  n_estimators=50, min_samples_split=2, min_samples_leaf=1, max_features=sqrt, max_depth=None, bootstrap=False, total=   0.7s\n",
      "[CV] n_estimators=50, min_samples_split=2, min_samples_leaf=1, max_features=sqrt, max_depth=None, bootstrap=False \n",
      "[CV]  n_estimators=50, min_samples_split=2, min_samples_leaf=1, max_features=sqrt, max_depth=None, bootstrap=False, total=   0.5s\n",
      "[CV] n_estimators=50, min_samples_split=2, min_samples_leaf=1, max_features=sqrt, max_depth=None, bootstrap=False \n",
      "[CV]  n_estimators=50, min_samples_split=2, min_samples_leaf=1, max_features=sqrt, max_depth=None, bootstrap=False, total=   0.5s\n",
      "[CV] n_estimators=50, min_samples_split=2, min_samples_leaf=1, max_features=sqrt, max_depth=21, bootstrap=True \n",
      "[CV]  n_estimators=50, min_samples_split=2, min_samples_leaf=1, max_features=sqrt, max_depth=21, bootstrap=True, total=   0.4s\n",
      "[CV] n_estimators=50, min_samples_split=2, min_samples_leaf=1, max_features=sqrt, max_depth=21, bootstrap=True \n",
      "[CV]  n_estimators=50, min_samples_split=2, min_samples_leaf=1, max_features=sqrt, max_depth=21, bootstrap=True, total=   0.5s\n",
      "[CV] n_estimators=50, min_samples_split=2, min_samples_leaf=1, max_features=sqrt, max_depth=21, bootstrap=True \n",
      "[CV]  n_estimators=50, min_samples_split=2, min_samples_leaf=1, max_features=sqrt, max_depth=21, bootstrap=True, total=   0.6s\n",
      "[CV] n_estimators=894, min_samples_split=5, min_samples_leaf=1, max_features=auto, max_depth=21, bootstrap=False \n",
      "[CV]  n_estimators=894, min_samples_split=5, min_samples_leaf=1, max_features=auto, max_depth=21, bootstrap=False, total=  10.8s\n",
      "[CV] n_estimators=894, min_samples_split=5, min_samples_leaf=1, max_features=auto, max_depth=21, bootstrap=False \n",
      "[CV]  n_estimators=894, min_samples_split=5, min_samples_leaf=1, max_features=auto, max_depth=21, bootstrap=False, total=  10.0s\n",
      "[CV] n_estimators=894, min_samples_split=5, min_samples_leaf=1, max_features=auto, max_depth=21, bootstrap=False \n",
      "[CV]  n_estimators=894, min_samples_split=5, min_samples_leaf=1, max_features=auto, max_depth=21, bootstrap=False, total=  10.6s\n",
      "[CV] n_estimators=50, min_samples_split=10, min_samples_leaf=4, max_features=sqrt, max_depth=98, bootstrap=True \n",
      "[CV]  n_estimators=50, min_samples_split=10, min_samples_leaf=4, max_features=sqrt, max_depth=98, bootstrap=True, total=   0.5s\n",
      "[CV] n_estimators=50, min_samples_split=10, min_samples_leaf=4, max_features=sqrt, max_depth=98, bootstrap=True \n",
      "[CV]  n_estimators=50, min_samples_split=10, min_samples_leaf=4, max_features=sqrt, max_depth=98, bootstrap=True, total=   0.5s\n",
      "[CV] n_estimators=50, min_samples_split=10, min_samples_leaf=4, max_features=sqrt, max_depth=98, bootstrap=True \n",
      "[CV]  n_estimators=50, min_samples_split=10, min_samples_leaf=4, max_features=sqrt, max_depth=98, bootstrap=True, total=   0.5s\n",
      "[CV] n_estimators=577, min_samples_split=2, min_samples_leaf=2, max_features=sqrt, max_depth=110, bootstrap=True \n",
      "[CV]  n_estimators=577, min_samples_split=2, min_samples_leaf=2, max_features=sqrt, max_depth=110, bootstrap=True, total=   4.5s\n",
      "[CV] n_estimators=577, min_samples_split=2, min_samples_leaf=2, max_features=sqrt, max_depth=110, bootstrap=True \n",
      "[CV]  n_estimators=577, min_samples_split=2, min_samples_leaf=2, max_features=sqrt, max_depth=110, bootstrap=True, total=   7.5s\n",
      "[CV] n_estimators=577, min_samples_split=2, min_samples_leaf=2, max_features=sqrt, max_depth=110, bootstrap=True \n",
      "[CV]  n_estimators=577, min_samples_split=2, min_samples_leaf=2, max_features=sqrt, max_depth=110, bootstrap=True, total=   5.8s\n",
      "[CV] n_estimators=577, min_samples_split=10, min_samples_leaf=4, max_features=sqrt, max_depth=110, bootstrap=True \n",
      "[CV]  n_estimators=577, min_samples_split=10, min_samples_leaf=4, max_features=sqrt, max_depth=110, bootstrap=True, total=   4.4s\n",
      "[CV] n_estimators=577, min_samples_split=10, min_samples_leaf=4, max_features=sqrt, max_depth=110, bootstrap=True \n",
      "[CV]  n_estimators=577, min_samples_split=10, min_samples_leaf=4, max_features=sqrt, max_depth=110, bootstrap=True, total=   4.8s\n",
      "[CV] n_estimators=577, min_samples_split=10, min_samples_leaf=4, max_features=sqrt, max_depth=110, bootstrap=True \n",
      "[CV]  n_estimators=577, min_samples_split=10, min_samples_leaf=4, max_features=sqrt, max_depth=110, bootstrap=True, total=   4.2s\n",
      "[CV] n_estimators=155, min_samples_split=2, min_samples_leaf=2, max_features=auto, max_depth=21, bootstrap=True \n",
      "[CV]  n_estimators=155, min_samples_split=2, min_samples_leaf=2, max_features=auto, max_depth=21, bootstrap=True, total=   1.1s\n",
      "[CV] n_estimators=155, min_samples_split=2, min_samples_leaf=2, max_features=auto, max_depth=21, bootstrap=True \n",
      "[CV]  n_estimators=155, min_samples_split=2, min_samples_leaf=2, max_features=auto, max_depth=21, bootstrap=True, total=   1.1s\n",
      "[CV] n_estimators=155, min_samples_split=2, min_samples_leaf=2, max_features=auto, max_depth=21, bootstrap=True \n",
      "[CV]  n_estimators=155, min_samples_split=2, min_samples_leaf=2, max_features=auto, max_depth=21, bootstrap=True, total=   1.2s\n",
      "[CV] n_estimators=788, min_samples_split=5, min_samples_leaf=2, max_features=sqrt, max_depth=87, bootstrap=False \n",
      "[CV]  n_estimators=788, min_samples_split=5, min_samples_leaf=2, max_features=sqrt, max_depth=87, bootstrap=False, total=   8.1s\n",
      "[CV] n_estimators=788, min_samples_split=5, min_samples_leaf=2, max_features=sqrt, max_depth=87, bootstrap=False \n",
      "[CV]  n_estimators=788, min_samples_split=5, min_samples_leaf=2, max_features=sqrt, max_depth=87, bootstrap=False, total=  11.7s\n",
      "[CV] n_estimators=788, min_samples_split=5, min_samples_leaf=2, max_features=sqrt, max_depth=87, bootstrap=False \n",
      "[CV]  n_estimators=788, min_samples_split=5, min_samples_leaf=2, max_features=sqrt, max_depth=87, bootstrap=False, total=  15.9s\n",
      "[CV] n_estimators=155, min_samples_split=10, min_samples_leaf=1, max_features=auto, max_depth=110, bootstrap=True \n",
      "[CV]  n_estimators=155, min_samples_split=10, min_samples_leaf=1, max_features=auto, max_depth=110, bootstrap=True, total=   3.0s\n",
      "[CV] n_estimators=155, min_samples_split=10, min_samples_leaf=1, max_features=auto, max_depth=110, bootstrap=True \n",
      "[CV]  n_estimators=155, min_samples_split=10, min_samples_leaf=1, max_features=auto, max_depth=110, bootstrap=True, total=   2.4s\n",
      "[CV] n_estimators=155, min_samples_split=10, min_samples_leaf=1, max_features=auto, max_depth=110, bootstrap=True \n",
      "[CV]  n_estimators=155, min_samples_split=10, min_samples_leaf=1, max_features=auto, max_depth=110, bootstrap=True, total=   2.1s\n",
      "[CV] n_estimators=1000, min_samples_split=2, min_samples_leaf=4, max_features=auto, max_depth=76, bootstrap=False \n",
      "[CV]  n_estimators=1000, min_samples_split=2, min_samples_leaf=4, max_features=auto, max_depth=76, bootstrap=False, total=  14.2s\n",
      "[CV] n_estimators=1000, min_samples_split=2, min_samples_leaf=4, max_features=auto, max_depth=76, bootstrap=False \n",
      "[CV]  n_estimators=1000, min_samples_split=2, min_samples_leaf=4, max_features=auto, max_depth=76, bootstrap=False, total=   9.6s\n",
      "[CV] n_estimators=1000, min_samples_split=2, min_samples_leaf=4, max_features=auto, max_depth=76, bootstrap=False \n",
      "[CV]  n_estimators=1000, min_samples_split=2, min_samples_leaf=4, max_features=auto, max_depth=76, bootstrap=False, total=   8.5s\n",
      "[CV] n_estimators=472, min_samples_split=5, min_samples_leaf=1, max_features=auto, max_depth=10, bootstrap=True \n",
      "[CV]  n_estimators=472, min_samples_split=5, min_samples_leaf=1, max_features=auto, max_depth=10, bootstrap=True, total=   2.8s\n",
      "[CV] n_estimators=472, min_samples_split=5, min_samples_leaf=1, max_features=auto, max_depth=10, bootstrap=True \n"
     ]
    },
    {
     "name": "stdout",
     "output_type": "stream",
     "text": [
      "[CV]  n_estimators=472, min_samples_split=5, min_samples_leaf=1, max_features=auto, max_depth=10, bootstrap=True, total=   2.7s\n",
      "[CV] n_estimators=472, min_samples_split=5, min_samples_leaf=1, max_features=auto, max_depth=10, bootstrap=True \n",
      "[CV]  n_estimators=472, min_samples_split=5, min_samples_leaf=1, max_features=auto, max_depth=10, bootstrap=True, total=   2.8s\n",
      "[CV] n_estimators=50, min_samples_split=2, min_samples_leaf=2, max_features=sqrt, max_depth=54, bootstrap=False \n",
      "[CV]  n_estimators=50, min_samples_split=2, min_samples_leaf=2, max_features=sqrt, max_depth=54, bootstrap=False, total=   0.5s\n",
      "[CV] n_estimators=50, min_samples_split=2, min_samples_leaf=2, max_features=sqrt, max_depth=54, bootstrap=False \n",
      "[CV]  n_estimators=50, min_samples_split=2, min_samples_leaf=2, max_features=sqrt, max_depth=54, bootstrap=False, total=   0.5s\n",
      "[CV] n_estimators=50, min_samples_split=2, min_samples_leaf=2, max_features=sqrt, max_depth=54, bootstrap=False \n",
      "[CV]  n_estimators=50, min_samples_split=2, min_samples_leaf=2, max_features=sqrt, max_depth=54, bootstrap=False, total=   0.4s\n",
      "[CV] n_estimators=261, min_samples_split=10, min_samples_leaf=1, max_features=sqrt, max_depth=None, bootstrap=True \n",
      "[CV]  n_estimators=261, min_samples_split=10, min_samples_leaf=1, max_features=sqrt, max_depth=None, bootstrap=True, total=   1.8s\n",
      "[CV] n_estimators=261, min_samples_split=10, min_samples_leaf=1, max_features=sqrt, max_depth=None, bootstrap=True \n",
      "[CV]  n_estimators=261, min_samples_split=10, min_samples_leaf=1, max_features=sqrt, max_depth=None, bootstrap=True, total=   1.8s\n",
      "[CV] n_estimators=261, min_samples_split=10, min_samples_leaf=1, max_features=sqrt, max_depth=None, bootstrap=True \n",
      "[CV]  n_estimators=261, min_samples_split=10, min_samples_leaf=1, max_features=sqrt, max_depth=None, bootstrap=True, total=   1.9s\n",
      "[CV] n_estimators=50, min_samples_split=5, min_samples_leaf=4, max_features=sqrt, max_depth=32, bootstrap=False \n",
      "[CV]  n_estimators=50, min_samples_split=5, min_samples_leaf=4, max_features=sqrt, max_depth=32, bootstrap=False, total=   0.4s\n",
      "[CV] n_estimators=50, min_samples_split=5, min_samples_leaf=4, max_features=sqrt, max_depth=32, bootstrap=False \n",
      "[CV]  n_estimators=50, min_samples_split=5, min_samples_leaf=4, max_features=sqrt, max_depth=32, bootstrap=False, total=   0.5s\n",
      "[CV] n_estimators=50, min_samples_split=5, min_samples_leaf=4, max_features=sqrt, max_depth=32, bootstrap=False \n",
      "[CV]  n_estimators=50, min_samples_split=5, min_samples_leaf=4, max_features=sqrt, max_depth=32, bootstrap=False, total=   0.4s\n",
      "[CV] n_estimators=894, min_samples_split=5, min_samples_leaf=1, max_features=sqrt, max_depth=21, bootstrap=False \n",
      "[CV]  n_estimators=894, min_samples_split=5, min_samples_leaf=1, max_features=sqrt, max_depth=21, bootstrap=False, total=   8.5s\n",
      "[CV] n_estimators=894, min_samples_split=5, min_samples_leaf=1, max_features=sqrt, max_depth=21, bootstrap=False \n",
      "[CV]  n_estimators=894, min_samples_split=5, min_samples_leaf=1, max_features=sqrt, max_depth=21, bootstrap=False, total=   9.2s\n",
      "[CV] n_estimators=894, min_samples_split=5, min_samples_leaf=1, max_features=sqrt, max_depth=21, bootstrap=False \n",
      "[CV]  n_estimators=894, min_samples_split=5, min_samples_leaf=1, max_features=sqrt, max_depth=21, bootstrap=False, total=   8.6s\n",
      "[CV] n_estimators=155, min_samples_split=2, min_samples_leaf=2, max_features=sqrt, max_depth=87, bootstrap=False \n",
      "[CV]  n_estimators=155, min_samples_split=2, min_samples_leaf=2, max_features=sqrt, max_depth=87, bootstrap=False, total=   1.5s\n",
      "[CV] n_estimators=155, min_samples_split=2, min_samples_leaf=2, max_features=sqrt, max_depth=87, bootstrap=False \n",
      "[CV]  n_estimators=155, min_samples_split=2, min_samples_leaf=2, max_features=sqrt, max_depth=87, bootstrap=False, total=   1.4s\n",
      "[CV] n_estimators=155, min_samples_split=2, min_samples_leaf=2, max_features=sqrt, max_depth=87, bootstrap=False \n",
      "[CV]  n_estimators=155, min_samples_split=2, min_samples_leaf=2, max_features=sqrt, max_depth=87, bootstrap=False, total=   1.4s\n",
      "[CV] n_estimators=366, min_samples_split=10, min_samples_leaf=1, max_features=auto, max_depth=10, bootstrap=False \n",
      "[CV]  n_estimators=366, min_samples_split=10, min_samples_leaf=1, max_features=auto, max_depth=10, bootstrap=False, total=   2.6s\n",
      "[CV] n_estimators=366, min_samples_split=10, min_samples_leaf=1, max_features=auto, max_depth=10, bootstrap=False \n",
      "[CV]  n_estimators=366, min_samples_split=10, min_samples_leaf=1, max_features=auto, max_depth=10, bootstrap=False, total=   2.6s\n",
      "[CV] n_estimators=366, min_samples_split=10, min_samples_leaf=1, max_features=auto, max_depth=10, bootstrap=False \n",
      "[CV]  n_estimators=366, min_samples_split=10, min_samples_leaf=1, max_features=auto, max_depth=10, bootstrap=False, total=   2.6s\n",
      "[CV] n_estimators=50, min_samples_split=5, min_samples_leaf=1, max_features=auto, max_depth=None, bootstrap=False \n",
      "[CV]  n_estimators=50, min_samples_split=5, min_samples_leaf=1, max_features=auto, max_depth=None, bootstrap=False, total=   0.6s\n",
      "[CV] n_estimators=50, min_samples_split=5, min_samples_leaf=1, max_features=auto, max_depth=None, bootstrap=False \n",
      "[CV]  n_estimators=50, min_samples_split=5, min_samples_leaf=1, max_features=auto, max_depth=None, bootstrap=False, total=   0.5s\n",
      "[CV] n_estimators=50, min_samples_split=5, min_samples_leaf=1, max_features=auto, max_depth=None, bootstrap=False \n",
      "[CV]  n_estimators=50, min_samples_split=5, min_samples_leaf=1, max_features=auto, max_depth=None, bootstrap=False, total=   0.5s\n",
      "[CV] n_estimators=261, min_samples_split=5, min_samples_leaf=1, max_features=auto, max_depth=65, bootstrap=True \n",
      "[CV]  n_estimators=261, min_samples_split=5, min_samples_leaf=1, max_features=auto, max_depth=65, bootstrap=True, total=   2.0s\n",
      "[CV] n_estimators=261, min_samples_split=5, min_samples_leaf=1, max_features=auto, max_depth=65, bootstrap=True \n",
      "[CV]  n_estimators=261, min_samples_split=5, min_samples_leaf=1, max_features=auto, max_depth=65, bootstrap=True, total=   1.9s\n",
      "[CV] n_estimators=261, min_samples_split=5, min_samples_leaf=1, max_features=auto, max_depth=65, bootstrap=True \n",
      "[CV]  n_estimators=261, min_samples_split=5, min_samples_leaf=1, max_features=auto, max_depth=65, bootstrap=True, total=   1.9s\n",
      "[CV] n_estimators=50, min_samples_split=2, min_samples_leaf=4, max_features=auto, max_depth=21, bootstrap=True \n",
      "[CV]  n_estimators=50, min_samples_split=2, min_samples_leaf=4, max_features=auto, max_depth=21, bootstrap=True, total=   0.3s\n",
      "[CV] n_estimators=50, min_samples_split=2, min_samples_leaf=4, max_features=auto, max_depth=21, bootstrap=True \n",
      "[CV]  n_estimators=50, min_samples_split=2, min_samples_leaf=4, max_features=auto, max_depth=21, bootstrap=True, total=   0.3s\n",
      "[CV] n_estimators=50, min_samples_split=2, min_samples_leaf=4, max_features=auto, max_depth=21, bootstrap=True \n",
      "[CV]  n_estimators=50, min_samples_split=2, min_samples_leaf=4, max_features=auto, max_depth=21, bootstrap=True, total=   0.3s\n",
      "[CV] n_estimators=894, min_samples_split=2, min_samples_leaf=1, max_features=sqrt, max_depth=54, bootstrap=True \n",
      "[CV]  n_estimators=894, min_samples_split=2, min_samples_leaf=1, max_features=sqrt, max_depth=54, bootstrap=True, total=   7.2s\n",
      "[CV] n_estimators=894, min_samples_split=2, min_samples_leaf=1, max_features=sqrt, max_depth=54, bootstrap=True \n",
      "[CV]  n_estimators=894, min_samples_split=2, min_samples_leaf=1, max_features=sqrt, max_depth=54, bootstrap=True, total=   7.6s\n",
      "[CV] n_estimators=894, min_samples_split=2, min_samples_leaf=1, max_features=sqrt, max_depth=54, bootstrap=True \n",
      "[CV]  n_estimators=894, min_samples_split=2, min_samples_leaf=1, max_features=sqrt, max_depth=54, bootstrap=True, total=   8.6s\n",
      "[CV] n_estimators=788, min_samples_split=10, min_samples_leaf=4, max_features=sqrt, max_depth=54, bootstrap=True \n",
      "[CV]  n_estimators=788, min_samples_split=10, min_samples_leaf=4, max_features=sqrt, max_depth=54, bootstrap=True, total=   5.8s\n",
      "[CV] n_estimators=788, min_samples_split=10, min_samples_leaf=4, max_features=sqrt, max_depth=54, bootstrap=True \n",
      "[CV]  n_estimators=788, min_samples_split=10, min_samples_leaf=4, max_features=sqrt, max_depth=54, bootstrap=True, total=   6.5s\n",
      "[CV] n_estimators=788, min_samples_split=10, min_samples_leaf=4, max_features=sqrt, max_depth=54, bootstrap=True \n"
     ]
    },
    {
     "name": "stdout",
     "output_type": "stream",
     "text": [
      "[CV]  n_estimators=788, min_samples_split=10, min_samples_leaf=4, max_features=sqrt, max_depth=54, bootstrap=True, total=   6.4s\n",
      "[CV] n_estimators=472, min_samples_split=10, min_samples_leaf=1, max_features=auto, max_depth=54, bootstrap=True \n",
      "[CV]  n_estimators=472, min_samples_split=10, min_samples_leaf=1, max_features=auto, max_depth=54, bootstrap=True, total=   3.9s\n",
      "[CV] n_estimators=472, min_samples_split=10, min_samples_leaf=1, max_features=auto, max_depth=54, bootstrap=True \n",
      "[CV]  n_estimators=472, min_samples_split=10, min_samples_leaf=1, max_features=auto, max_depth=54, bootstrap=True, total=   3.9s\n",
      "[CV] n_estimators=472, min_samples_split=10, min_samples_leaf=1, max_features=auto, max_depth=54, bootstrap=True \n",
      "[CV]  n_estimators=472, min_samples_split=10, min_samples_leaf=1, max_features=auto, max_depth=54, bootstrap=True, total=   3.9s\n",
      "[CV] n_estimators=50, min_samples_split=5, min_samples_leaf=4, max_features=auto, max_depth=10, bootstrap=True \n",
      "[CV]  n_estimators=50, min_samples_split=5, min_samples_leaf=4, max_features=auto, max_depth=10, bootstrap=True, total=   0.3s\n",
      "[CV] n_estimators=50, min_samples_split=5, min_samples_leaf=4, max_features=auto, max_depth=10, bootstrap=True \n",
      "[CV]  n_estimators=50, min_samples_split=5, min_samples_leaf=4, max_features=auto, max_depth=10, bootstrap=True, total=   0.3s\n",
      "[CV] n_estimators=50, min_samples_split=5, min_samples_leaf=4, max_features=auto, max_depth=10, bootstrap=True \n",
      "[CV]  n_estimators=50, min_samples_split=5, min_samples_leaf=4, max_features=auto, max_depth=10, bootstrap=True, total=   0.3s\n",
      "[CV] n_estimators=1000, min_samples_split=5, min_samples_leaf=1, max_features=sqrt, max_depth=54, bootstrap=True \n",
      "[CV]  n_estimators=1000, min_samples_split=5, min_samples_leaf=1, max_features=sqrt, max_depth=54, bootstrap=True, total=   8.5s\n",
      "[CV] n_estimators=1000, min_samples_split=5, min_samples_leaf=1, max_features=sqrt, max_depth=54, bootstrap=True \n",
      "[CV]  n_estimators=1000, min_samples_split=5, min_samples_leaf=1, max_features=sqrt, max_depth=54, bootstrap=True, total=   9.0s\n",
      "[CV] n_estimators=1000, min_samples_split=5, min_samples_leaf=1, max_features=sqrt, max_depth=54, bootstrap=True \n",
      "[CV]  n_estimators=1000, min_samples_split=5, min_samples_leaf=1, max_features=sqrt, max_depth=54, bootstrap=True, total=   9.3s\n",
      "[CV] n_estimators=894, min_samples_split=5, min_samples_leaf=2, max_features=auto, max_depth=87, bootstrap=False \n",
      "[CV]  n_estimators=894, min_samples_split=5, min_samples_leaf=2, max_features=auto, max_depth=87, bootstrap=False, total=   8.8s\n",
      "[CV] n_estimators=894, min_samples_split=5, min_samples_leaf=2, max_features=auto, max_depth=87, bootstrap=False \n",
      "[CV]  n_estimators=894, min_samples_split=5, min_samples_leaf=2, max_features=auto, max_depth=87, bootstrap=False, total=   9.2s\n",
      "[CV] n_estimators=894, min_samples_split=5, min_samples_leaf=2, max_features=auto, max_depth=87, bootstrap=False \n",
      "[CV]  n_estimators=894, min_samples_split=5, min_samples_leaf=2, max_features=auto, max_depth=87, bootstrap=False, total=  10.3s\n",
      "[CV] n_estimators=894, min_samples_split=10, min_samples_leaf=1, max_features=auto, max_depth=43, bootstrap=True \n",
      "[CV]  n_estimators=894, min_samples_split=10, min_samples_leaf=1, max_features=auto, max_depth=43, bootstrap=True, total=   7.4s\n",
      "[CV] n_estimators=894, min_samples_split=10, min_samples_leaf=1, max_features=auto, max_depth=43, bootstrap=True \n",
      "[CV]  n_estimators=894, min_samples_split=10, min_samples_leaf=1, max_features=auto, max_depth=43, bootstrap=True, total=   9.1s\n",
      "[CV] n_estimators=894, min_samples_split=10, min_samples_leaf=1, max_features=auto, max_depth=43, bootstrap=True \n",
      "[CV]  n_estimators=894, min_samples_split=10, min_samples_leaf=1, max_features=auto, max_depth=43, bootstrap=True, total=   9.5s\n",
      "[CV] n_estimators=261, min_samples_split=2, min_samples_leaf=2, max_features=auto, max_depth=65, bootstrap=True \n",
      "[CV]  n_estimators=261, min_samples_split=2, min_samples_leaf=2, max_features=auto, max_depth=65, bootstrap=True, total=   2.3s\n",
      "[CV] n_estimators=261, min_samples_split=2, min_samples_leaf=2, max_features=auto, max_depth=65, bootstrap=True \n",
      "[CV]  n_estimators=261, min_samples_split=2, min_samples_leaf=2, max_features=auto, max_depth=65, bootstrap=True, total=   2.2s\n",
      "[CV] n_estimators=261, min_samples_split=2, min_samples_leaf=2, max_features=auto, max_depth=65, bootstrap=True \n",
      "[CV]  n_estimators=261, min_samples_split=2, min_samples_leaf=2, max_features=auto, max_depth=65, bootstrap=True, total=   2.1s\n",
      "[CV] n_estimators=1000, min_samples_split=5, min_samples_leaf=1, max_features=auto, max_depth=None, bootstrap=False \n",
      "[CV]  n_estimators=1000, min_samples_split=5, min_samples_leaf=1, max_features=auto, max_depth=None, bootstrap=False, total=  10.4s\n",
      "[CV] n_estimators=1000, min_samples_split=5, min_samples_leaf=1, max_features=auto, max_depth=None, bootstrap=False \n",
      "[CV]  n_estimators=1000, min_samples_split=5, min_samples_leaf=1, max_features=auto, max_depth=None, bootstrap=False, total=  13.1s\n",
      "[CV] n_estimators=1000, min_samples_split=5, min_samples_leaf=1, max_features=auto, max_depth=None, bootstrap=False \n",
      "[CV]  n_estimators=1000, min_samples_split=5, min_samples_leaf=1, max_features=auto, max_depth=None, bootstrap=False, total=  10.5s\n",
      "[CV] n_estimators=894, min_samples_split=2, min_samples_leaf=1, max_features=auto, max_depth=10, bootstrap=True \n",
      "[CV]  n_estimators=894, min_samples_split=2, min_samples_leaf=1, max_features=auto, max_depth=10, bootstrap=True, total=   5.8s\n",
      "[CV] n_estimators=894, min_samples_split=2, min_samples_leaf=1, max_features=auto, max_depth=10, bootstrap=True \n",
      "[CV]  n_estimators=894, min_samples_split=2, min_samples_leaf=1, max_features=auto, max_depth=10, bootstrap=True, total=   7.0s\n",
      "[CV] n_estimators=894, min_samples_split=2, min_samples_leaf=1, max_features=auto, max_depth=10, bootstrap=True \n",
      "[CV]  n_estimators=894, min_samples_split=2, min_samples_leaf=1, max_features=auto, max_depth=10, bootstrap=True, total=   8.1s\n",
      "[CV] n_estimators=788, min_samples_split=10, min_samples_leaf=1, max_features=auto, max_depth=None, bootstrap=False \n",
      "[CV]  n_estimators=788, min_samples_split=10, min_samples_leaf=1, max_features=auto, max_depth=None, bootstrap=False, total=   8.0s\n",
      "[CV] n_estimators=788, min_samples_split=10, min_samples_leaf=1, max_features=auto, max_depth=None, bootstrap=False \n",
      "[CV]  n_estimators=788, min_samples_split=10, min_samples_leaf=1, max_features=auto, max_depth=None, bootstrap=False, total=   7.7s\n",
      "[CV] n_estimators=788, min_samples_split=10, min_samples_leaf=1, max_features=auto, max_depth=None, bootstrap=False \n",
      "[CV]  n_estimators=788, min_samples_split=10, min_samples_leaf=1, max_features=auto, max_depth=None, bootstrap=False, total=   7.7s\n",
      "[CV] n_estimators=894, min_samples_split=5, min_samples_leaf=4, max_features=auto, max_depth=32, bootstrap=True \n",
      "[CV]  n_estimators=894, min_samples_split=5, min_samples_leaf=4, max_features=auto, max_depth=32, bootstrap=True, total=   6.3s\n",
      "[CV] n_estimators=894, min_samples_split=5, min_samples_leaf=4, max_features=auto, max_depth=32, bootstrap=True \n",
      "[CV]  n_estimators=894, min_samples_split=5, min_samples_leaf=4, max_features=auto, max_depth=32, bootstrap=True, total=   6.1s\n",
      "[CV] n_estimators=894, min_samples_split=5, min_samples_leaf=4, max_features=auto, max_depth=32, bootstrap=True \n",
      "[CV]  n_estimators=894, min_samples_split=5, min_samples_leaf=4, max_features=auto, max_depth=32, bootstrap=True, total=   6.2s\n",
      "[CV] n_estimators=788, min_samples_split=2, min_samples_leaf=4, max_features=sqrt, max_depth=110, bootstrap=True \n",
      "[CV]  n_estimators=788, min_samples_split=2, min_samples_leaf=4, max_features=sqrt, max_depth=110, bootstrap=True, total=   5.6s\n",
      "[CV] n_estimators=788, min_samples_split=2, min_samples_leaf=4, max_features=sqrt, max_depth=110, bootstrap=True \n",
      "[CV]  n_estimators=788, min_samples_split=2, min_samples_leaf=4, max_features=sqrt, max_depth=110, bootstrap=True, total=   5.4s\n",
      "[CV] n_estimators=788, min_samples_split=2, min_samples_leaf=4, max_features=sqrt, max_depth=110, bootstrap=True \n",
      "[CV]  n_estimators=788, min_samples_split=2, min_samples_leaf=4, max_features=sqrt, max_depth=110, bootstrap=True, total=   5.5s\n",
      "[CV] n_estimators=1000, min_samples_split=5, min_samples_leaf=1, max_features=auto, max_depth=98, bootstrap=False \n"
     ]
    },
    {
     "name": "stdout",
     "output_type": "stream",
     "text": [
      "[CV]  n_estimators=1000, min_samples_split=5, min_samples_leaf=1, max_features=auto, max_depth=98, bootstrap=False, total=  10.4s\n",
      "[CV] n_estimators=1000, min_samples_split=5, min_samples_leaf=1, max_features=auto, max_depth=98, bootstrap=False \n",
      "[CV]  n_estimators=1000, min_samples_split=5, min_samples_leaf=1, max_features=auto, max_depth=98, bootstrap=False, total=   9.9s\n",
      "[CV] n_estimators=1000, min_samples_split=5, min_samples_leaf=1, max_features=auto, max_depth=98, bootstrap=False \n",
      "[CV]  n_estimators=1000, min_samples_split=5, min_samples_leaf=1, max_features=auto, max_depth=98, bootstrap=False, total=   9.9s\n",
      "[CV] n_estimators=366, min_samples_split=5, min_samples_leaf=2, max_features=sqrt, max_depth=32, bootstrap=False \n",
      "[CV]  n_estimators=366, min_samples_split=5, min_samples_leaf=2, max_features=sqrt, max_depth=32, bootstrap=False, total=   3.6s\n",
      "[CV] n_estimators=366, min_samples_split=5, min_samples_leaf=2, max_features=sqrt, max_depth=32, bootstrap=False \n",
      "[CV]  n_estimators=366, min_samples_split=5, min_samples_leaf=2, max_features=sqrt, max_depth=32, bootstrap=False, total=   3.5s\n",
      "[CV] n_estimators=366, min_samples_split=5, min_samples_leaf=2, max_features=sqrt, max_depth=32, bootstrap=False \n",
      "[CV]  n_estimators=366, min_samples_split=5, min_samples_leaf=2, max_features=sqrt, max_depth=32, bootstrap=False, total=   3.5s\n",
      "[CV] n_estimators=1000, min_samples_split=10, min_samples_leaf=1, max_features=auto, max_depth=65, bootstrap=True \n",
      "[CV]  n_estimators=1000, min_samples_split=10, min_samples_leaf=1, max_features=auto, max_depth=65, bootstrap=True, total=   7.6s\n",
      "[CV] n_estimators=1000, min_samples_split=10, min_samples_leaf=1, max_features=auto, max_depth=65, bootstrap=True \n",
      "[CV]  n_estimators=1000, min_samples_split=10, min_samples_leaf=1, max_features=auto, max_depth=65, bootstrap=True, total=   7.5s\n",
      "[CV] n_estimators=1000, min_samples_split=10, min_samples_leaf=1, max_features=auto, max_depth=65, bootstrap=True \n",
      "[CV]  n_estimators=1000, min_samples_split=10, min_samples_leaf=1, max_features=auto, max_depth=65, bootstrap=True, total=   7.6s\n",
      "[CV] n_estimators=50, min_samples_split=5, min_samples_leaf=1, max_features=sqrt, max_depth=110, bootstrap=False \n",
      "[CV]  n_estimators=50, min_samples_split=5, min_samples_leaf=1, max_features=sqrt, max_depth=110, bootstrap=False, total=   0.5s\n",
      "[CV] n_estimators=50, min_samples_split=5, min_samples_leaf=1, max_features=sqrt, max_depth=110, bootstrap=False \n",
      "[CV]  n_estimators=50, min_samples_split=5, min_samples_leaf=1, max_features=sqrt, max_depth=110, bootstrap=False, total=   0.5s\n",
      "[CV] n_estimators=50, min_samples_split=5, min_samples_leaf=1, max_features=sqrt, max_depth=110, bootstrap=False \n",
      "[CV]  n_estimators=50, min_samples_split=5, min_samples_leaf=1, max_features=sqrt, max_depth=110, bootstrap=False, total=   0.5s\n",
      "[CV] n_estimators=683, min_samples_split=10, min_samples_leaf=2, max_features=sqrt, max_depth=65, bootstrap=False \n",
      "[CV]  n_estimators=683, min_samples_split=10, min_samples_leaf=2, max_features=sqrt, max_depth=65, bootstrap=False, total=   6.4s\n",
      "[CV] n_estimators=683, min_samples_split=10, min_samples_leaf=2, max_features=sqrt, max_depth=65, bootstrap=False \n",
      "[CV]  n_estimators=683, min_samples_split=10, min_samples_leaf=2, max_features=sqrt, max_depth=65, bootstrap=False, total=   6.4s\n",
      "[CV] n_estimators=683, min_samples_split=10, min_samples_leaf=2, max_features=sqrt, max_depth=65, bootstrap=False \n",
      "[CV]  n_estimators=683, min_samples_split=10, min_samples_leaf=2, max_features=sqrt, max_depth=65, bootstrap=False, total=   6.3s\n",
      "[CV] n_estimators=1000, min_samples_split=2, min_samples_leaf=1, max_features=sqrt, max_depth=65, bootstrap=True \n",
      "[CV]  n_estimators=1000, min_samples_split=2, min_samples_leaf=1, max_features=sqrt, max_depth=65, bootstrap=True, total=   7.8s\n",
      "[CV] n_estimators=1000, min_samples_split=2, min_samples_leaf=1, max_features=sqrt, max_depth=65, bootstrap=True \n",
      "[CV]  n_estimators=1000, min_samples_split=2, min_samples_leaf=1, max_features=sqrt, max_depth=65, bootstrap=True, total=   7.6s\n",
      "[CV] n_estimators=1000, min_samples_split=2, min_samples_leaf=1, max_features=sqrt, max_depth=65, bootstrap=True \n",
      "[CV]  n_estimators=1000, min_samples_split=2, min_samples_leaf=1, max_features=sqrt, max_depth=65, bootstrap=True, total=   7.8s\n",
      "[CV] n_estimators=577, min_samples_split=10, min_samples_leaf=2, max_features=sqrt, max_depth=110, bootstrap=True \n",
      "[CV]  n_estimators=577, min_samples_split=10, min_samples_leaf=2, max_features=sqrt, max_depth=110, bootstrap=True, total=   4.1s\n",
      "[CV] n_estimators=577, min_samples_split=10, min_samples_leaf=2, max_features=sqrt, max_depth=110, bootstrap=True \n",
      "[CV]  n_estimators=577, min_samples_split=10, min_samples_leaf=2, max_features=sqrt, max_depth=110, bootstrap=True, total=   4.0s\n",
      "[CV] n_estimators=577, min_samples_split=10, min_samples_leaf=2, max_features=sqrt, max_depth=110, bootstrap=True \n",
      "[CV]  n_estimators=577, min_samples_split=10, min_samples_leaf=2, max_features=sqrt, max_depth=110, bootstrap=True, total=   4.2s\n",
      "[CV] n_estimators=155, min_samples_split=2, min_samples_leaf=4, max_features=auto, max_depth=32, bootstrap=False \n",
      "[CV]  n_estimators=155, min_samples_split=2, min_samples_leaf=4, max_features=auto, max_depth=32, bootstrap=False, total=   1.4s\n",
      "[CV] n_estimators=155, min_samples_split=2, min_samples_leaf=4, max_features=auto, max_depth=32, bootstrap=False \n",
      "[CV]  n_estimators=155, min_samples_split=2, min_samples_leaf=4, max_features=auto, max_depth=32, bootstrap=False, total=   1.4s\n",
      "[CV] n_estimators=155, min_samples_split=2, min_samples_leaf=4, max_features=auto, max_depth=32, bootstrap=False \n",
      "[CV]  n_estimators=155, min_samples_split=2, min_samples_leaf=4, max_features=auto, max_depth=32, bootstrap=False, total=   1.4s\n",
      "[CV] n_estimators=577, min_samples_split=10, min_samples_leaf=4, max_features=auto, max_depth=54, bootstrap=True \n",
      "[CV]  n_estimators=577, min_samples_split=10, min_samples_leaf=4, max_features=auto, max_depth=54, bootstrap=True, total=   4.0s\n",
      "[CV] n_estimators=577, min_samples_split=10, min_samples_leaf=4, max_features=auto, max_depth=54, bootstrap=True \n",
      "[CV]  n_estimators=577, min_samples_split=10, min_samples_leaf=4, max_features=auto, max_depth=54, bootstrap=True, total=   4.0s\n",
      "[CV] n_estimators=577, min_samples_split=10, min_samples_leaf=4, max_features=auto, max_depth=54, bootstrap=True \n",
      "[CV]  n_estimators=577, min_samples_split=10, min_samples_leaf=4, max_features=auto, max_depth=54, bootstrap=True, total=   3.9s\n",
      "[CV] n_estimators=1000, min_samples_split=2, min_samples_leaf=2, max_features=auto, max_depth=10, bootstrap=False \n",
      "[CV]  n_estimators=1000, min_samples_split=2, min_samples_leaf=2, max_features=auto, max_depth=10, bootstrap=False, total=   7.6s\n",
      "[CV] n_estimators=1000, min_samples_split=2, min_samples_leaf=2, max_features=auto, max_depth=10, bootstrap=False \n",
      "[CV]  n_estimators=1000, min_samples_split=2, min_samples_leaf=2, max_features=auto, max_depth=10, bootstrap=False, total=   7.7s\n",
      "[CV] n_estimators=1000, min_samples_split=2, min_samples_leaf=2, max_features=auto, max_depth=10, bootstrap=False \n",
      "[CV]  n_estimators=1000, min_samples_split=2, min_samples_leaf=2, max_features=auto, max_depth=10, bootstrap=False, total=   7.7s\n",
      "[CV] n_estimators=894, min_samples_split=10, min_samples_leaf=4, max_features=sqrt, max_depth=98, bootstrap=False \n",
      "[CV]  n_estimators=894, min_samples_split=10, min_samples_leaf=4, max_features=sqrt, max_depth=98, bootstrap=False, total=   8.7s\n",
      "[CV] n_estimators=894, min_samples_split=10, min_samples_leaf=4, max_features=sqrt, max_depth=98, bootstrap=False \n",
      "[CV]  n_estimators=894, min_samples_split=10, min_samples_leaf=4, max_features=sqrt, max_depth=98, bootstrap=False, total=   8.0s\n",
      "[CV] n_estimators=894, min_samples_split=10, min_samples_leaf=4, max_features=sqrt, max_depth=98, bootstrap=False \n",
      "[CV]  n_estimators=894, min_samples_split=10, min_samples_leaf=4, max_features=sqrt, max_depth=98, bootstrap=False, total=   8.1s\n",
      "[CV] n_estimators=50, min_samples_split=2, min_samples_leaf=2, max_features=sqrt, max_depth=87, bootstrap=False \n",
      "[CV]  n_estimators=50, min_samples_split=2, min_samples_leaf=2, max_features=sqrt, max_depth=87, bootstrap=False, total=   0.5s\n",
      "[CV] n_estimators=50, min_samples_split=2, min_samples_leaf=2, max_features=sqrt, max_depth=87, bootstrap=False \n"
     ]
    },
    {
     "name": "stdout",
     "output_type": "stream",
     "text": [
      "[CV]  n_estimators=50, min_samples_split=2, min_samples_leaf=2, max_features=sqrt, max_depth=87, bootstrap=False, total=   0.5s\n",
      "[CV] n_estimators=50, min_samples_split=2, min_samples_leaf=2, max_features=sqrt, max_depth=87, bootstrap=False \n",
      "[CV]  n_estimators=50, min_samples_split=2, min_samples_leaf=2, max_features=sqrt, max_depth=87, bootstrap=False, total=   0.5s\n",
      "[CV] n_estimators=261, min_samples_split=2, min_samples_leaf=2, max_features=auto, max_depth=10, bootstrap=True \n",
      "[CV]  n_estimators=261, min_samples_split=2, min_samples_leaf=2, max_features=auto, max_depth=10, bootstrap=True, total=   1.6s\n",
      "[CV] n_estimators=261, min_samples_split=2, min_samples_leaf=2, max_features=auto, max_depth=10, bootstrap=True \n",
      "[CV]  n_estimators=261, min_samples_split=2, min_samples_leaf=2, max_features=auto, max_depth=10, bootstrap=True, total=   1.7s\n",
      "[CV] n_estimators=261, min_samples_split=2, min_samples_leaf=2, max_features=auto, max_depth=10, bootstrap=True \n",
      "[CV]  n_estimators=261, min_samples_split=2, min_samples_leaf=2, max_features=auto, max_depth=10, bootstrap=True, total=   1.6s\n",
      "[CV] n_estimators=261, min_samples_split=10, min_samples_leaf=1, max_features=auto, max_depth=None, bootstrap=True \n",
      "[CV]  n_estimators=261, min_samples_split=10, min_samples_leaf=1, max_features=auto, max_depth=None, bootstrap=True, total=   1.9s\n",
      "[CV] n_estimators=261, min_samples_split=10, min_samples_leaf=1, max_features=auto, max_depth=None, bootstrap=True \n",
      "[CV]  n_estimators=261, min_samples_split=10, min_samples_leaf=1, max_features=auto, max_depth=None, bootstrap=True, total=   2.0s\n",
      "[CV] n_estimators=261, min_samples_split=10, min_samples_leaf=1, max_features=auto, max_depth=None, bootstrap=True \n",
      "[CV]  n_estimators=261, min_samples_split=10, min_samples_leaf=1, max_features=auto, max_depth=None, bootstrap=True, total=   1.9s\n",
      "[CV] n_estimators=261, min_samples_split=2, min_samples_leaf=1, max_features=sqrt, max_depth=98, bootstrap=True \n",
      "[CV]  n_estimators=261, min_samples_split=2, min_samples_leaf=1, max_features=sqrt, max_depth=98, bootstrap=True, total=   2.0s\n",
      "[CV] n_estimators=261, min_samples_split=2, min_samples_leaf=1, max_features=sqrt, max_depth=98, bootstrap=True \n",
      "[CV]  n_estimators=261, min_samples_split=2, min_samples_leaf=1, max_features=sqrt, max_depth=98, bootstrap=True, total=   2.1s\n",
      "[CV] n_estimators=261, min_samples_split=2, min_samples_leaf=1, max_features=sqrt, max_depth=98, bootstrap=True \n",
      "[CV]  n_estimators=261, min_samples_split=2, min_samples_leaf=1, max_features=sqrt, max_depth=98, bootstrap=True, total=   2.0s\n",
      "[CV] n_estimators=577, min_samples_split=5, min_samples_leaf=2, max_features=sqrt, max_depth=54, bootstrap=False \n",
      "[CV]  n_estimators=577, min_samples_split=5, min_samples_leaf=2, max_features=sqrt, max_depth=54, bootstrap=False, total=   5.6s\n",
      "[CV] n_estimators=577, min_samples_split=5, min_samples_leaf=2, max_features=sqrt, max_depth=54, bootstrap=False \n",
      "[CV]  n_estimators=577, min_samples_split=5, min_samples_leaf=2, max_features=sqrt, max_depth=54, bootstrap=False, total=   5.5s\n",
      "[CV] n_estimators=577, min_samples_split=5, min_samples_leaf=2, max_features=sqrt, max_depth=54, bootstrap=False \n",
      "[CV]  n_estimators=577, min_samples_split=5, min_samples_leaf=2, max_features=sqrt, max_depth=54, bootstrap=False, total=   5.5s\n",
      "[CV] n_estimators=683, min_samples_split=5, min_samples_leaf=4, max_features=sqrt, max_depth=110, bootstrap=False \n",
      "[CV]  n_estimators=683, min_samples_split=5, min_samples_leaf=4, max_features=sqrt, max_depth=110, bootstrap=False, total=   6.3s\n",
      "[CV] n_estimators=683, min_samples_split=5, min_samples_leaf=4, max_features=sqrt, max_depth=110, bootstrap=False \n",
      "[CV]  n_estimators=683, min_samples_split=5, min_samples_leaf=4, max_features=sqrt, max_depth=110, bootstrap=False, total=   6.0s\n",
      "[CV] n_estimators=683, min_samples_split=5, min_samples_leaf=4, max_features=sqrt, max_depth=110, bootstrap=False \n",
      "[CV]  n_estimators=683, min_samples_split=5, min_samples_leaf=4, max_features=sqrt, max_depth=110, bootstrap=False, total=   6.3s\n",
      "[CV] n_estimators=683, min_samples_split=2, min_samples_leaf=2, max_features=auto, max_depth=10, bootstrap=False \n",
      "[CV]  n_estimators=683, min_samples_split=2, min_samples_leaf=2, max_features=auto, max_depth=10, bootstrap=False, total=   5.5s\n",
      "[CV] n_estimators=683, min_samples_split=2, min_samples_leaf=2, max_features=auto, max_depth=10, bootstrap=False \n",
      "[CV]  n_estimators=683, min_samples_split=2, min_samples_leaf=2, max_features=auto, max_depth=10, bootstrap=False, total=   5.3s\n",
      "[CV] n_estimators=683, min_samples_split=2, min_samples_leaf=2, max_features=auto, max_depth=10, bootstrap=False \n",
      "[CV]  n_estimators=683, min_samples_split=2, min_samples_leaf=2, max_features=auto, max_depth=10, bootstrap=False, total=   5.2s\n",
      "[CV] n_estimators=50, min_samples_split=2, min_samples_leaf=1, max_features=auto, max_depth=None, bootstrap=True \n",
      "[CV]  n_estimators=50, min_samples_split=2, min_samples_leaf=1, max_features=auto, max_depth=None, bootstrap=True, total=   0.4s\n",
      "[CV] n_estimators=50, min_samples_split=2, min_samples_leaf=1, max_features=auto, max_depth=None, bootstrap=True \n",
      "[CV]  n_estimators=50, min_samples_split=2, min_samples_leaf=1, max_features=auto, max_depth=None, bootstrap=True, total=   0.4s\n",
      "[CV] n_estimators=50, min_samples_split=2, min_samples_leaf=1, max_features=auto, max_depth=None, bootstrap=True \n",
      "[CV]  n_estimators=50, min_samples_split=2, min_samples_leaf=1, max_features=auto, max_depth=None, bootstrap=True, total=   0.4s\n",
      "[CV] n_estimators=1000, min_samples_split=5, min_samples_leaf=1, max_features=auto, max_depth=10, bootstrap=False \n",
      "[CV]  n_estimators=1000, min_samples_split=5, min_samples_leaf=1, max_features=auto, max_depth=10, bootstrap=False, total=   7.7s\n",
      "[CV] n_estimators=1000, min_samples_split=5, min_samples_leaf=1, max_features=auto, max_depth=10, bootstrap=False \n",
      "[CV]  n_estimators=1000, min_samples_split=5, min_samples_leaf=1, max_features=auto, max_depth=10, bootstrap=False, total=   7.6s\n",
      "[CV] n_estimators=1000, min_samples_split=5, min_samples_leaf=1, max_features=auto, max_depth=10, bootstrap=False \n",
      "[CV]  n_estimators=1000, min_samples_split=5, min_samples_leaf=1, max_features=auto, max_depth=10, bootstrap=False, total=  10.1s\n",
      "[CV] n_estimators=577, min_samples_split=5, min_samples_leaf=2, max_features=sqrt, max_depth=76, bootstrap=False \n",
      "[CV]  n_estimators=577, min_samples_split=5, min_samples_leaf=2, max_features=sqrt, max_depth=76, bootstrap=False, total=   6.9s\n",
      "[CV] n_estimators=577, min_samples_split=5, min_samples_leaf=2, max_features=sqrt, max_depth=76, bootstrap=False \n",
      "[CV]  n_estimators=577, min_samples_split=5, min_samples_leaf=2, max_features=sqrt, max_depth=76, bootstrap=False, total=   6.3s\n",
      "[CV] n_estimators=577, min_samples_split=5, min_samples_leaf=2, max_features=sqrt, max_depth=76, bootstrap=False \n",
      "[CV]  n_estimators=577, min_samples_split=5, min_samples_leaf=2, max_features=sqrt, max_depth=76, bootstrap=False, total=   5.6s\n",
      "[CV] n_estimators=577, min_samples_split=2, min_samples_leaf=2, max_features=auto, max_depth=10, bootstrap=False \n",
      "[CV]  n_estimators=577, min_samples_split=2, min_samples_leaf=2, max_features=auto, max_depth=10, bootstrap=False, total=   4.4s\n",
      "[CV] n_estimators=577, min_samples_split=2, min_samples_leaf=2, max_features=auto, max_depth=10, bootstrap=False \n",
      "[CV]  n_estimators=577, min_samples_split=2, min_samples_leaf=2, max_features=auto, max_depth=10, bootstrap=False, total=   4.4s\n",
      "[CV] n_estimators=577, min_samples_split=2, min_samples_leaf=2, max_features=auto, max_depth=10, bootstrap=False \n",
      "[CV]  n_estimators=577, min_samples_split=2, min_samples_leaf=2, max_features=auto, max_depth=10, bootstrap=False, total=   4.4s\n",
      "[CV] n_estimators=261, min_samples_split=5, min_samples_leaf=4, max_features=auto, max_depth=32, bootstrap=True \n",
      "[CV]  n_estimators=261, min_samples_split=5, min_samples_leaf=4, max_features=auto, max_depth=32, bootstrap=True, total=   1.9s\n",
      "[CV] n_estimators=261, min_samples_split=5, min_samples_leaf=4, max_features=auto, max_depth=32, bootstrap=True \n",
      "[CV]  n_estimators=261, min_samples_split=5, min_samples_leaf=4, max_features=auto, max_depth=32, bootstrap=True, total=   1.9s\n",
      "[CV] n_estimators=261, min_samples_split=5, min_samples_leaf=4, max_features=auto, max_depth=32, bootstrap=True \n"
     ]
    },
    {
     "name": "stdout",
     "output_type": "stream",
     "text": [
      "[CV]  n_estimators=261, min_samples_split=5, min_samples_leaf=4, max_features=auto, max_depth=32, bootstrap=True, total=   1.8s\n",
      "[CV] n_estimators=894, min_samples_split=5, min_samples_leaf=2, max_features=auto, max_depth=76, bootstrap=True \n",
      "[CV]  n_estimators=894, min_samples_split=5, min_samples_leaf=2, max_features=auto, max_depth=76, bootstrap=True, total=   6.8s\n",
      "[CV] n_estimators=894, min_samples_split=5, min_samples_leaf=2, max_features=auto, max_depth=76, bootstrap=True \n",
      "[CV]  n_estimators=894, min_samples_split=5, min_samples_leaf=2, max_features=auto, max_depth=76, bootstrap=True, total=   6.7s\n",
      "[CV] n_estimators=894, min_samples_split=5, min_samples_leaf=2, max_features=auto, max_depth=76, bootstrap=True \n",
      "[CV]  n_estimators=894, min_samples_split=5, min_samples_leaf=2, max_features=auto, max_depth=76, bootstrap=True, total=   6.7s\n",
      "[CV] n_estimators=1000, min_samples_split=10, min_samples_leaf=4, max_features=auto, max_depth=54, bootstrap=False \n",
      "[CV]  n_estimators=1000, min_samples_split=10, min_samples_leaf=4, max_features=auto, max_depth=54, bootstrap=False, total=   9.1s\n",
      "[CV] n_estimators=1000, min_samples_split=10, min_samples_leaf=4, max_features=auto, max_depth=54, bootstrap=False \n",
      "[CV]  n_estimators=1000, min_samples_split=10, min_samples_leaf=4, max_features=auto, max_depth=54, bootstrap=False, total=   8.9s\n",
      "[CV] n_estimators=1000, min_samples_split=10, min_samples_leaf=4, max_features=auto, max_depth=54, bootstrap=False \n",
      "[CV]  n_estimators=1000, min_samples_split=10, min_samples_leaf=4, max_features=auto, max_depth=54, bootstrap=False, total=   9.0s\n",
      "[CV] n_estimators=366, min_samples_split=2, min_samples_leaf=4, max_features=sqrt, max_depth=None, bootstrap=True \n",
      "[CV]  n_estimators=366, min_samples_split=2, min_samples_leaf=4, max_features=sqrt, max_depth=None, bootstrap=True, total=   2.6s\n",
      "[CV] n_estimators=366, min_samples_split=2, min_samples_leaf=4, max_features=sqrt, max_depth=None, bootstrap=True \n",
      "[CV]  n_estimators=366, min_samples_split=2, min_samples_leaf=4, max_features=sqrt, max_depth=None, bootstrap=True, total=   2.5s\n",
      "[CV] n_estimators=366, min_samples_split=2, min_samples_leaf=4, max_features=sqrt, max_depth=None, bootstrap=True \n",
      "[CV]  n_estimators=366, min_samples_split=2, min_samples_leaf=4, max_features=sqrt, max_depth=None, bootstrap=True, total=   2.6s\n",
      "[CV] n_estimators=788, min_samples_split=2, min_samples_leaf=1, max_features=sqrt, max_depth=32, bootstrap=True \n",
      "[CV]  n_estimators=788, min_samples_split=2, min_samples_leaf=1, max_features=sqrt, max_depth=32, bootstrap=True, total=   6.3s\n",
      "[CV] n_estimators=788, min_samples_split=2, min_samples_leaf=1, max_features=sqrt, max_depth=32, bootstrap=True \n",
      "[CV]  n_estimators=788, min_samples_split=2, min_samples_leaf=1, max_features=sqrt, max_depth=32, bootstrap=True, total=   6.2s\n",
      "[CV] n_estimators=788, min_samples_split=2, min_samples_leaf=1, max_features=sqrt, max_depth=32, bootstrap=True \n",
      "[CV]  n_estimators=788, min_samples_split=2, min_samples_leaf=1, max_features=sqrt, max_depth=32, bootstrap=True, total=   6.2s\n",
      "[CV] n_estimators=1000, min_samples_split=2, min_samples_leaf=2, max_features=sqrt, max_depth=110, bootstrap=False \n",
      "[CV]  n_estimators=1000, min_samples_split=2, min_samples_leaf=2, max_features=sqrt, max_depth=110, bootstrap=False, total=   9.7s\n",
      "[CV] n_estimators=1000, min_samples_split=2, min_samples_leaf=2, max_features=sqrt, max_depth=110, bootstrap=False \n",
      "[CV]  n_estimators=1000, min_samples_split=2, min_samples_leaf=2, max_features=sqrt, max_depth=110, bootstrap=False, total=   9.6s\n",
      "[CV] n_estimators=1000, min_samples_split=2, min_samples_leaf=2, max_features=sqrt, max_depth=110, bootstrap=False \n",
      "[CV]  n_estimators=1000, min_samples_split=2, min_samples_leaf=2, max_features=sqrt, max_depth=110, bootstrap=False, total=   9.7s\n",
      "[CV] n_estimators=788, min_samples_split=10, min_samples_leaf=2, max_features=sqrt, max_depth=21, bootstrap=False \n",
      "[CV]  n_estimators=788, min_samples_split=10, min_samples_leaf=2, max_features=sqrt, max_depth=21, bootstrap=False, total=   7.4s\n",
      "[CV] n_estimators=788, min_samples_split=10, min_samples_leaf=2, max_features=sqrt, max_depth=21, bootstrap=False \n",
      "[CV]  n_estimators=788, min_samples_split=10, min_samples_leaf=2, max_features=sqrt, max_depth=21, bootstrap=False, total=   7.4s\n",
      "[CV] n_estimators=788, min_samples_split=10, min_samples_leaf=2, max_features=sqrt, max_depth=21, bootstrap=False \n",
      "[CV]  n_estimators=788, min_samples_split=10, min_samples_leaf=2, max_features=sqrt, max_depth=21, bootstrap=False, total=   7.3s\n",
      "[CV] n_estimators=577, min_samples_split=2, min_samples_leaf=2, max_features=auto, max_depth=54, bootstrap=True \n",
      "[CV]  n_estimators=577, min_samples_split=2, min_samples_leaf=2, max_features=auto, max_depth=54, bootstrap=True, total=   4.4s\n",
      "[CV] n_estimators=577, min_samples_split=2, min_samples_leaf=2, max_features=auto, max_depth=54, bootstrap=True \n",
      "[CV]  n_estimators=577, min_samples_split=2, min_samples_leaf=2, max_features=auto, max_depth=54, bootstrap=True, total=   4.7s\n",
      "[CV] n_estimators=577, min_samples_split=2, min_samples_leaf=2, max_features=auto, max_depth=54, bootstrap=True \n",
      "[CV]  n_estimators=577, min_samples_split=2, min_samples_leaf=2, max_features=auto, max_depth=54, bootstrap=True, total=   4.7s\n",
      "[CV] n_estimators=894, min_samples_split=10, min_samples_leaf=4, max_features=sqrt, max_depth=110, bootstrap=True \n",
      "[CV]  n_estimators=894, min_samples_split=10, min_samples_leaf=4, max_features=sqrt, max_depth=110, bootstrap=True, total=   8.2s\n",
      "[CV] n_estimators=894, min_samples_split=10, min_samples_leaf=4, max_features=sqrt, max_depth=110, bootstrap=True \n",
      "[CV]  n_estimators=894, min_samples_split=10, min_samples_leaf=4, max_features=sqrt, max_depth=110, bootstrap=True, total=   6.6s\n",
      "[CV] n_estimators=894, min_samples_split=10, min_samples_leaf=4, max_features=sqrt, max_depth=110, bootstrap=True \n",
      "[CV]  n_estimators=894, min_samples_split=10, min_samples_leaf=4, max_features=sqrt, max_depth=110, bootstrap=True, total=   6.5s\n",
      "[CV] n_estimators=472, min_samples_split=2, min_samples_leaf=2, max_features=auto, max_depth=76, bootstrap=False \n",
      "[CV]  n_estimators=472, min_samples_split=2, min_samples_leaf=2, max_features=auto, max_depth=76, bootstrap=False, total=   4.9s\n",
      "[CV] n_estimators=472, min_samples_split=2, min_samples_leaf=2, max_features=auto, max_depth=76, bootstrap=False \n",
      "[CV]  n_estimators=472, min_samples_split=2, min_samples_leaf=2, max_features=auto, max_depth=76, bootstrap=False, total=   4.8s\n",
      "[CV] n_estimators=472, min_samples_split=2, min_samples_leaf=2, max_features=auto, max_depth=76, bootstrap=False \n",
      "[CV]  n_estimators=472, min_samples_split=2, min_samples_leaf=2, max_features=auto, max_depth=76, bootstrap=False, total=   4.6s\n",
      "[CV] n_estimators=894, min_samples_split=10, min_samples_leaf=4, max_features=auto, max_depth=87, bootstrap=False \n",
      "[CV]  n_estimators=894, min_samples_split=10, min_samples_leaf=4, max_features=auto, max_depth=87, bootstrap=False, total=   8.2s\n",
      "[CV] n_estimators=894, min_samples_split=10, min_samples_leaf=4, max_features=auto, max_depth=87, bootstrap=False \n",
      "[CV]  n_estimators=894, min_samples_split=10, min_samples_leaf=4, max_features=auto, max_depth=87, bootstrap=False, total=   8.1s\n",
      "[CV] n_estimators=894, min_samples_split=10, min_samples_leaf=4, max_features=auto, max_depth=87, bootstrap=False \n",
      "[CV]  n_estimators=894, min_samples_split=10, min_samples_leaf=4, max_features=auto, max_depth=87, bootstrap=False, total=   8.2s\n",
      "[CV] n_estimators=894, min_samples_split=5, min_samples_leaf=4, max_features=sqrt, max_depth=10, bootstrap=False \n",
      "[CV]  n_estimators=894, min_samples_split=5, min_samples_leaf=4, max_features=sqrt, max_depth=10, bootstrap=False, total=   7.4s\n",
      "[CV] n_estimators=894, min_samples_split=5, min_samples_leaf=4, max_features=sqrt, max_depth=10, bootstrap=False \n",
      "[CV]  n_estimators=894, min_samples_split=5, min_samples_leaf=4, max_features=sqrt, max_depth=10, bootstrap=False, total=   6.7s\n",
      "[CV] n_estimators=894, min_samples_split=5, min_samples_leaf=4, max_features=sqrt, max_depth=10, bootstrap=False \n",
      "[CV]  n_estimators=894, min_samples_split=5, min_samples_leaf=4, max_features=sqrt, max_depth=10, bootstrap=False, total=   6.7s\n",
      "[CV] n_estimators=894, min_samples_split=5, min_samples_leaf=4, max_features=auto, max_depth=87, bootstrap=True \n"
     ]
    },
    {
     "name": "stdout",
     "output_type": "stream",
     "text": [
      "[CV]  n_estimators=894, min_samples_split=5, min_samples_leaf=4, max_features=auto, max_depth=87, bootstrap=True, total=   7.1s\n",
      "[CV] n_estimators=894, min_samples_split=5, min_samples_leaf=4, max_features=auto, max_depth=87, bootstrap=True \n",
      "[CV]  n_estimators=894, min_samples_split=5, min_samples_leaf=4, max_features=auto, max_depth=87, bootstrap=True, total=   6.9s\n",
      "[CV] n_estimators=894, min_samples_split=5, min_samples_leaf=4, max_features=auto, max_depth=87, bootstrap=True \n",
      "[CV]  n_estimators=894, min_samples_split=5, min_samples_leaf=4, max_features=auto, max_depth=87, bootstrap=True, total=   6.3s\n",
      "[CV] n_estimators=1000, min_samples_split=10, min_samples_leaf=1, max_features=sqrt, max_depth=21, bootstrap=False \n",
      "[CV]  n_estimators=1000, min_samples_split=10, min_samples_leaf=1, max_features=sqrt, max_depth=21, bootstrap=False, total=   9.7s\n",
      "[CV] n_estimators=1000, min_samples_split=10, min_samples_leaf=1, max_features=sqrt, max_depth=21, bootstrap=False \n",
      "[CV]  n_estimators=1000, min_samples_split=10, min_samples_leaf=1, max_features=sqrt, max_depth=21, bootstrap=False, total=   9.8s\n",
      "[CV] n_estimators=1000, min_samples_split=10, min_samples_leaf=1, max_features=sqrt, max_depth=21, bootstrap=False \n",
      "[CV]  n_estimators=1000, min_samples_split=10, min_samples_leaf=1, max_features=sqrt, max_depth=21, bootstrap=False, total=  11.9s\n",
      "[CV] n_estimators=50, min_samples_split=10, min_samples_leaf=2, max_features=auto, max_depth=32, bootstrap=True \n",
      "[CV]  n_estimators=50, min_samples_split=10, min_samples_leaf=2, max_features=auto, max_depth=32, bootstrap=True, total=   0.5s\n",
      "[CV] n_estimators=50, min_samples_split=10, min_samples_leaf=2, max_features=auto, max_depth=32, bootstrap=True \n",
      "[CV]  n_estimators=50, min_samples_split=10, min_samples_leaf=2, max_features=auto, max_depth=32, bootstrap=True, total=   0.6s\n",
      "[CV] n_estimators=50, min_samples_split=10, min_samples_leaf=2, max_features=auto, max_depth=32, bootstrap=True \n",
      "[CV]  n_estimators=50, min_samples_split=10, min_samples_leaf=2, max_features=auto, max_depth=32, bootstrap=True, total=   0.5s\n",
      "[CV] n_estimators=683, min_samples_split=5, min_samples_leaf=1, max_features=auto, max_depth=21, bootstrap=False \n",
      "[CV]  n_estimators=683, min_samples_split=5, min_samples_leaf=1, max_features=auto, max_depth=21, bootstrap=False, total=   7.7s\n",
      "[CV] n_estimators=683, min_samples_split=5, min_samples_leaf=1, max_features=auto, max_depth=21, bootstrap=False \n",
      "[CV]  n_estimators=683, min_samples_split=5, min_samples_leaf=1, max_features=auto, max_depth=21, bootstrap=False, total=   8.6s\n",
      "[CV] n_estimators=683, min_samples_split=5, min_samples_leaf=1, max_features=auto, max_depth=21, bootstrap=False \n",
      "[CV]  n_estimators=683, min_samples_split=5, min_samples_leaf=1, max_features=auto, max_depth=21, bootstrap=False, total=  11.2s\n",
      "[CV] n_estimators=683, min_samples_split=5, min_samples_leaf=4, max_features=sqrt, max_depth=10, bootstrap=True \n",
      "[CV]  n_estimators=683, min_samples_split=5, min_samples_leaf=4, max_features=sqrt, max_depth=10, bootstrap=True, total=   4.7s\n",
      "[CV] n_estimators=683, min_samples_split=5, min_samples_leaf=4, max_features=sqrt, max_depth=10, bootstrap=True \n",
      "[CV]  n_estimators=683, min_samples_split=5, min_samples_leaf=4, max_features=sqrt, max_depth=10, bootstrap=True, total=   4.6s\n",
      "[CV] n_estimators=683, min_samples_split=5, min_samples_leaf=4, max_features=sqrt, max_depth=10, bootstrap=True \n",
      "[CV]  n_estimators=683, min_samples_split=5, min_samples_leaf=4, max_features=sqrt, max_depth=10, bootstrap=True, total=   5.2s\n",
      "[CV] n_estimators=50, min_samples_split=10, min_samples_leaf=2, max_features=auto, max_depth=98, bootstrap=True \n",
      "[CV]  n_estimators=50, min_samples_split=10, min_samples_leaf=2, max_features=auto, max_depth=98, bootstrap=True, total=   0.4s\n",
      "[CV] n_estimators=50, min_samples_split=10, min_samples_leaf=2, max_features=auto, max_depth=98, bootstrap=True \n",
      "[CV]  n_estimators=50, min_samples_split=10, min_samples_leaf=2, max_features=auto, max_depth=98, bootstrap=True, total=   0.4s\n",
      "[CV] n_estimators=50, min_samples_split=10, min_samples_leaf=2, max_features=auto, max_depth=98, bootstrap=True \n",
      "[CV]  n_estimators=50, min_samples_split=10, min_samples_leaf=2, max_features=auto, max_depth=98, bootstrap=True, total=   0.5s\n",
      "[CV] n_estimators=472, min_samples_split=2, min_samples_leaf=1, max_features=auto, max_depth=65, bootstrap=False \n",
      "[CV]  n_estimators=472, min_samples_split=2, min_samples_leaf=1, max_features=auto, max_depth=65, bootstrap=False, total=   6.8s\n",
      "[CV] n_estimators=472, min_samples_split=2, min_samples_leaf=1, max_features=auto, max_depth=65, bootstrap=False \n",
      "[CV]  n_estimators=472, min_samples_split=2, min_samples_leaf=1, max_features=auto, max_depth=65, bootstrap=False, total=   8.1s\n",
      "[CV] n_estimators=472, min_samples_split=2, min_samples_leaf=1, max_features=auto, max_depth=65, bootstrap=False \n",
      "[CV]  n_estimators=472, min_samples_split=2, min_samples_leaf=1, max_features=auto, max_depth=65, bootstrap=False, total=   7.3s\n",
      "[CV] n_estimators=261, min_samples_split=10, min_samples_leaf=1, max_features=auto, max_depth=110, bootstrap=False \n",
      "[CV]  n_estimators=261, min_samples_split=10, min_samples_leaf=1, max_features=auto, max_depth=110, bootstrap=False, total=   3.7s\n",
      "[CV] n_estimators=261, min_samples_split=10, min_samples_leaf=1, max_features=auto, max_depth=110, bootstrap=False \n",
      "[CV]  n_estimators=261, min_samples_split=10, min_samples_leaf=1, max_features=auto, max_depth=110, bootstrap=False, total=   4.0s\n",
      "[CV] n_estimators=261, min_samples_split=10, min_samples_leaf=1, max_features=auto, max_depth=110, bootstrap=False \n",
      "[CV]  n_estimators=261, min_samples_split=10, min_samples_leaf=1, max_features=auto, max_depth=110, bootstrap=False, total=   3.8s\n",
      "[CV] n_estimators=577, min_samples_split=10, min_samples_leaf=1, max_features=sqrt, max_depth=43, bootstrap=True \n",
      "[CV]  n_estimators=577, min_samples_split=10, min_samples_leaf=1, max_features=sqrt, max_depth=43, bootstrap=True, total=   6.5s\n",
      "[CV] n_estimators=577, min_samples_split=10, min_samples_leaf=1, max_features=sqrt, max_depth=43, bootstrap=True \n",
      "[CV]  n_estimators=577, min_samples_split=10, min_samples_leaf=1, max_features=sqrt, max_depth=43, bootstrap=True, total=   6.4s\n",
      "[CV] n_estimators=577, min_samples_split=10, min_samples_leaf=1, max_features=sqrt, max_depth=43, bootstrap=True \n",
      "[CV]  n_estimators=577, min_samples_split=10, min_samples_leaf=1, max_features=sqrt, max_depth=43, bootstrap=True, total=   6.2s\n"
     ]
    },
    {
     "name": "stderr",
     "output_type": "stream",
     "text": [
      "[Parallel(n_jobs=1)]: Done 300 out of 300 | elapsed: 25.7min finished\n"
     ]
    },
    {
     "name": "stdout",
     "output_type": "stream",
     "text": [
      "              precision    recall  f1-score   support\n",
      "\n",
      "           0       0.79      0.72      0.75       321\n",
      "           1       0.84      0.90      0.87       624\n",
      "           2       1.00      0.40      0.57        35\n",
      "\n",
      "    accuracy                           0.82       980\n",
      "   macro avg       0.87      0.67      0.73       980\n",
      "weighted avg       0.83      0.82      0.82       980\n",
      "\n"
     ]
    }
   ],
   "source": [
    "# number of trees in random forest\n",
    "n_estimators = [int(x) for x in np.linspace(start=50, stop=1000, num=10)]\n",
    "\n",
    "# number of features to consider at every split\n",
    "max_features = ['auto', 'sqrt']\n",
    "\n",
    "# max number of levels in tree\n",
    "max_depth = [int(x) for x in np.linspace(10, 110, num=10)] + [None]\n",
    "\n",
    "#min number of samples required to split a node\n",
    "min_samples_split = [2, 5, 10]\n",
    "\n",
    "#min number of samples required at each leaf node\n",
    "min_samples_leaf = [1, 2, 4]\n",
    "\n",
    "#method of selecting samples for training each tree\n",
    "bootstrap = [True, False]\n",
    "\n",
    "#random grid\n",
    "random_grid = {'n_estimators' : n_estimators,\n",
    "              'max_features' : max_features,\n",
    "               'max_depth' : max_depth,\n",
    "              'min_samples_split' : min_samples_split,\n",
    "              'min_samples_leaf' : min_samples_leaf,\n",
    "              'bootstrap' : bootstrap\n",
    "              }\n",
    "\n",
    "rf_optimized = RandomizedSearchCV(estimator = rf,\n",
    "                                  param_distributions = random_grid, n_iter=100, cv=3, verbose=2, random_state=42)\n",
    "\n",
    "rf_optimized.fit(x_train, y_train)\n",
    "pred_optimized = rf_optimized.predict(x_test)\n",
    "print(classification_report(y_test, pred_optimized))"
   ]
  },
  {
   "cell_type": "code",
   "execution_count": 50,
   "metadata": {},
   "outputs": [
    {
     "name": "stdout",
     "output_type": "stream",
     "text": [
      "              precision    recall  f1-score   support\n",
      "\n",
      "           0       0.79      0.72      0.75       321\n",
      "           1       0.84      0.90      0.87       624\n",
      "           2       1.00      0.40      0.57        35\n",
      "\n",
      "    accuracy                           0.82       980\n",
      "   macro avg       0.87      0.67      0.73       980\n",
      "weighted avg       0.83      0.82      0.82       980\n",
      "\n",
      "{'n_estimators': 261, 'min_samples_split': 2, 'min_samples_leaf': 1, 'max_features': 'sqrt', 'max_depth': 98, 'bootstrap': True}\n"
     ]
    }
   ],
   "source": [
    "print(classification_report(y_test, pred_optimizedzedzed))\n",
    "print(rf_optimized.best_params_)"
   ]
  },
  {
   "cell_type": "code",
   "execution_count": 53,
   "metadata": {},
   "outputs": [
    {
     "data": {
      "text/plain": [
       "0.8044861422830001"
      ]
     },
     "execution_count": 53,
     "metadata": {},
     "output_type": "execute_result"
    }
   ],
   "source": [
    "rfeval = cross_val_score(estimator=rf, X=x_train, y=y_train, cv=10)\n",
    "rfeval.mean()"
   ]
  },
  {
   "cell_type": "code",
   "execution_count": 54,
   "metadata": {},
   "outputs": [
    {
     "data": {
      "text/plain": [
       "0.8055098126207003"
      ]
     },
     "execution_count": 54,
     "metadata": {},
     "output_type": "execute_result"
    }
   ],
   "source": [
    "rf_optimized = RandomForestClassifier(n_estimators=261, min_samples_split=2, min_samples_leaf=1, max_features='sqrt', max_depth=98, bootstrap=True)\n",
    "rf_optimized.fit(x_train, y_train)\n",
    "\n",
    "rfeval = cross_val_score(estimator=rf_optimized, X=x_train, y=y_train, cv=10)\n",
    "rfeval.mean()"
   ]
  },
  {
   "cell_type": "code",
   "execution_count": null,
   "metadata": {},
   "outputs": [],
   "source": []
  },
  {
   "cell_type": "code",
   "execution_count": null,
   "metadata": {},
   "outputs": [],
   "source": []
  },
  {
   "cell_type": "code",
   "execution_count": null,
   "metadata": {},
   "outputs": [],
   "source": []
  }
 ],
 "metadata": {
  "kernelspec": {
   "display_name": "Python 3",
   "language": "python",
   "name": "python3"
  },
  "language_info": {
   "codemirror_mode": {
    "name": "ipython",
    "version": 3
   },
   "file_extension": ".py",
   "mimetype": "text/x-python",
   "name": "python",
   "nbconvert_exporter": "python",
   "pygments_lexer": "ipython3",
   "version": "3.8.5"
  }
 },
 "nbformat": 4,
 "nbformat_minor": 4
}
